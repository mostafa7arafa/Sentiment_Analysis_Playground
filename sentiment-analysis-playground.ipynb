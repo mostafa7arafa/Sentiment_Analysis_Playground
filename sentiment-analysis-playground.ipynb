{
 "cells": [
  {
   "cell_type": "markdown",
   "id": "56007770",
   "metadata": {
    "papermill": {
     "duration": 0.017597,
     "end_time": "2024-04-26T19:06:09.374834",
     "exception": false,
     "start_time": "2024-04-26T19:06:09.357237",
     "status": "completed"
    },
    "tags": []
   },
   "source": [
    "# Sentiment Analysis\n",
    "This is a step by step tutorial for sentiment analysis using python"
   ]
  },
  {
   "cell_type": "markdown",
   "id": "8b7a439c",
   "metadata": {
    "papermill": {
     "duration": 0.015958,
     "end_time": "2024-04-26T19:06:09.406927",
     "exception": false,
     "start_time": "2024-04-26T19:06:09.390969",
     "status": "completed"
    },
    "tags": []
   },
   "source": [
    "# Import needed libraries"
   ]
  },
  {
   "cell_type": "code",
   "execution_count": 1,
   "id": "fcee0f63",
   "metadata": {
    "execution": {
     "iopub.execute_input": "2024-04-26T19:06:09.441003Z",
     "iopub.status.busy": "2024-04-26T19:06:09.440515Z",
     "iopub.status.idle": "2024-04-26T19:06:13.425030Z",
     "shell.execute_reply": "2024-04-26T19:06:13.423510Z"
    },
    "papermill": {
     "duration": 4.005374,
     "end_time": "2024-04-26T19:06:13.428133",
     "exception": false,
     "start_time": "2024-04-26T19:06:09.422759",
     "status": "completed"
    },
    "tags": []
   },
   "outputs": [],
   "source": [
    "import pandas as pd\n",
    "import numpy as np\n",
    "import matplotlib.pyplot as plt\n",
    "import seaborn as sns\n",
    "\n",
    "import nltk"
   ]
  },
  {
   "cell_type": "markdown",
   "id": "ede0f40b",
   "metadata": {
    "papermill": {
     "duration": 0.015612,
     "end_time": "2024-04-26T19:06:13.460894",
     "exception": false,
     "start_time": "2024-04-26T19:06:13.445282",
     "status": "completed"
    },
    "tags": []
   },
   "source": [
    "# EDA"
   ]
  },
  {
   "cell_type": "code",
   "execution_count": 2,
   "id": "277a1cac",
   "metadata": {
    "execution": {
     "iopub.execute_input": "2024-04-26T19:06:13.495542Z",
     "iopub.status.busy": "2024-04-26T19:06:13.494940Z",
     "iopub.status.idle": "2024-04-26T19:06:13.578874Z",
     "shell.execute_reply": "2024-04-26T19:06:13.577505Z"
    },
    "papermill": {
     "duration": 0.104394,
     "end_time": "2024-04-26T19:06:13.581907",
     "exception": false,
     "start_time": "2024-04-26T19:06:13.477513",
     "status": "completed"
    },
    "tags": []
   },
   "outputs": [
    {
     "data": {
      "text/html": [
       "<div>\n",
       "<style scoped>\n",
       "    .dataframe tbody tr th:only-of-type {\n",
       "        vertical-align: middle;\n",
       "    }\n",
       "\n",
       "    .dataframe tbody tr th {\n",
       "        vertical-align: top;\n",
       "    }\n",
       "\n",
       "    .dataframe thead th {\n",
       "        text-align: right;\n",
       "    }\n",
       "</style>\n",
       "<table border=\"1\" class=\"dataframe\">\n",
       "  <thead>\n",
       "    <tr style=\"text-align: right;\">\n",
       "      <th></th>\n",
       "      <th>name</th>\n",
       "      <th>location</th>\n",
       "      <th>Date</th>\n",
       "      <th>Rating</th>\n",
       "      <th>Review</th>\n",
       "      <th>Image_Links</th>\n",
       "    </tr>\n",
       "  </thead>\n",
       "  <tbody>\n",
       "    <tr>\n",
       "      <th>0</th>\n",
       "      <td>Helen</td>\n",
       "      <td>Wichita Falls, TX</td>\n",
       "      <td>Reviewed Sept. 13, 2023</td>\n",
       "      <td>5.0</td>\n",
       "      <td>Amber and LaDonna at the Starbucks on Southwes...</td>\n",
       "      <td>['No Images']</td>\n",
       "    </tr>\n",
       "    <tr>\n",
       "      <th>1</th>\n",
       "      <td>Courtney</td>\n",
       "      <td>Apopka, FL</td>\n",
       "      <td>Reviewed July 16, 2023</td>\n",
       "      <td>5.0</td>\n",
       "      <td>** at the Starbucks by the fire station on 436...</td>\n",
       "      <td>['No Images']</td>\n",
       "    </tr>\n",
       "    <tr>\n",
       "      <th>2</th>\n",
       "      <td>Daynelle</td>\n",
       "      <td>Cranberry Twp, PA</td>\n",
       "      <td>Reviewed July 5, 2023</td>\n",
       "      <td>5.0</td>\n",
       "      <td>I just wanted to go out of my way to recognize...</td>\n",
       "      <td>['https://media.consumeraffairs.com/files/cach...</td>\n",
       "    </tr>\n",
       "    <tr>\n",
       "      <th>3</th>\n",
       "      <td>Taylor</td>\n",
       "      <td>Seattle, WA</td>\n",
       "      <td>Reviewed May 26, 2023</td>\n",
       "      <td>5.0</td>\n",
       "      <td>Me and my friend were at Starbucks and my card...</td>\n",
       "      <td>['No Images']</td>\n",
       "    </tr>\n",
       "    <tr>\n",
       "      <th>4</th>\n",
       "      <td>Tenessa</td>\n",
       "      <td>Gresham, OR</td>\n",
       "      <td>Reviewed Jan. 22, 2023</td>\n",
       "      <td>5.0</td>\n",
       "      <td>I’m on this kick of drinking 5 cups of warm wa...</td>\n",
       "      <td>['https://media.consumeraffairs.com/files/cach...</td>\n",
       "    </tr>\n",
       "  </tbody>\n",
       "</table>\n",
       "</div>"
      ],
      "text/plain": [
       "       name           location                     Date  Rating  \\\n",
       "0     Helen  Wichita Falls, TX  Reviewed Sept. 13, 2023     5.0   \n",
       "1  Courtney         Apopka, FL   Reviewed July 16, 2023     5.0   \n",
       "2  Daynelle  Cranberry Twp, PA    Reviewed July 5, 2023     5.0   \n",
       "3    Taylor        Seattle, WA    Reviewed May 26, 2023     5.0   \n",
       "4   Tenessa        Gresham, OR   Reviewed Jan. 22, 2023     5.0   \n",
       "\n",
       "                                              Review  \\\n",
       "0  Amber and LaDonna at the Starbucks on Southwes...   \n",
       "1  ** at the Starbucks by the fire station on 436...   \n",
       "2  I just wanted to go out of my way to recognize...   \n",
       "3  Me and my friend were at Starbucks and my card...   \n",
       "4  I’m on this kick of drinking 5 cups of warm wa...   \n",
       "\n",
       "                                         Image_Links  \n",
       "0                                      ['No Images']  \n",
       "1                                      ['No Images']  \n",
       "2  ['https://media.consumeraffairs.com/files/cach...  \n",
       "3                                      ['No Images']  \n",
       "4  ['https://media.consumeraffairs.com/files/cach...  "
      ]
     },
     "execution_count": 2,
     "metadata": {},
     "output_type": "execute_result"
    }
   ],
   "source": [
    "df = pd.read_csv('/kaggle/input/starbucks-reviews-dataset/reviews_data.csv')\n",
    "df.head()"
   ]
  },
  {
   "cell_type": "code",
   "execution_count": 3,
   "id": "85f36b60",
   "metadata": {
    "execution": {
     "iopub.execute_input": "2024-04-26T19:06:13.617304Z",
     "iopub.status.busy": "2024-04-26T19:06:13.616919Z",
     "iopub.status.idle": "2024-04-26T19:06:13.624040Z",
     "shell.execute_reply": "2024-04-26T19:06:13.622952Z"
    },
    "papermill": {
     "duration": 0.028381,
     "end_time": "2024-04-26T19:06:13.626687",
     "exception": false,
     "start_time": "2024-04-26T19:06:13.598306",
     "status": "completed"
    },
    "tags": []
   },
   "outputs": [
    {
     "data": {
      "text/plain": [
       "(850, 6)"
      ]
     },
     "execution_count": 3,
     "metadata": {},
     "output_type": "execute_result"
    }
   ],
   "source": [
    "df.shape"
   ]
  },
  {
   "cell_type": "code",
   "execution_count": 4,
   "id": "3e384b06",
   "metadata": {
    "execution": {
     "iopub.execute_input": "2024-04-26T19:06:13.662603Z",
     "iopub.status.busy": "2024-04-26T19:06:13.662184Z",
     "iopub.status.idle": "2024-04-26T19:06:13.674247Z",
     "shell.execute_reply": "2024-04-26T19:06:13.672851Z"
    },
    "papermill": {
     "duration": 0.033808,
     "end_time": "2024-04-26T19:06:13.677085",
     "exception": false,
     "start_time": "2024-04-26T19:06:13.643277",
     "status": "completed"
    },
    "tags": []
   },
   "outputs": [
    {
     "data": {
      "text/plain": [
       "name             0\n",
       "location         0\n",
       "Date             0\n",
       "Rating         145\n",
       "Review           0\n",
       "Image_Links      0\n",
       "dtype: int64"
      ]
     },
     "execution_count": 4,
     "metadata": {},
     "output_type": "execute_result"
    }
   ],
   "source": [
    "df.isna().sum()"
   ]
  },
  {
   "cell_type": "code",
   "execution_count": 5,
   "id": "ebde00a2",
   "metadata": {
    "execution": {
     "iopub.execute_input": "2024-04-26T19:06:13.713880Z",
     "iopub.status.busy": "2024-04-26T19:06:13.713451Z",
     "iopub.status.idle": "2024-04-26T19:06:13.736612Z",
     "shell.execute_reply": "2024-04-26T19:06:13.735446Z"
    },
    "papermill": {
     "duration": 0.044385,
     "end_time": "2024-04-26T19:06:13.739241",
     "exception": false,
     "start_time": "2024-04-26T19:06:13.694856",
     "status": "completed"
    },
    "tags": []
   },
   "outputs": [
    {
     "data": {
      "text/html": [
       "<div>\n",
       "<style scoped>\n",
       "    .dataframe tbody tr th:only-of-type {\n",
       "        vertical-align: middle;\n",
       "    }\n",
       "\n",
       "    .dataframe tbody tr th {\n",
       "        vertical-align: top;\n",
       "    }\n",
       "\n",
       "    .dataframe thead th {\n",
       "        text-align: right;\n",
       "    }\n",
       "</style>\n",
       "<table border=\"1\" class=\"dataframe\">\n",
       "  <thead>\n",
       "    <tr style=\"text-align: right;\">\n",
       "      <th></th>\n",
       "      <th>name</th>\n",
       "      <th>location</th>\n",
       "      <th>Date</th>\n",
       "      <th>Rating</th>\n",
       "      <th>Review</th>\n",
       "      <th>Image_Links</th>\n",
       "    </tr>\n",
       "  </thead>\n",
       "  <tbody>\n",
       "    <tr>\n",
       "      <th>62</th>\n",
       "      <td>Sharon</td>\n",
       "      <td>Culpeper, VA</td>\n",
       "      <td>Reviewed July 18, 2022</td>\n",
       "      <td>2.0</td>\n",
       "      <td>No Review Text</td>\n",
       "      <td>['No Images']</td>\n",
       "    </tr>\n",
       "    <tr>\n",
       "      <th>100</th>\n",
       "      <td>Donald</td>\n",
       "      <td>Orlando, FL</td>\n",
       "      <td>Reviewed Nov. 22, 2021</td>\n",
       "      <td>1.0</td>\n",
       "      <td>No Review Text</td>\n",
       "      <td>['No Images']</td>\n",
       "    </tr>\n",
       "    <tr>\n",
       "      <th>793</th>\n",
       "      <td>Maureen</td>\n",
       "      <td>Lakewood, WA</td>\n",
       "      <td>Reviewed March 25, 2009</td>\n",
       "      <td>NaN</td>\n",
       "      <td>No Review Text</td>\n",
       "      <td>['No Images']</td>\n",
       "    </tr>\n",
       "    <tr>\n",
       "      <th>794</th>\n",
       "      <td>Maryellen</td>\n",
       "      <td>Richmond, TX</td>\n",
       "      <td>Reviewed March 23, 2009</td>\n",
       "      <td>NaN</td>\n",
       "      <td>No Review Text</td>\n",
       "      <td>['No Images']</td>\n",
       "    </tr>\n",
       "    <tr>\n",
       "      <th>795</th>\n",
       "      <td>Ben</td>\n",
       "      <td>Shanghai, OTHER</td>\n",
       "      <td>Reviewed March 23, 2009</td>\n",
       "      <td>NaN</td>\n",
       "      <td>No Review Text</td>\n",
       "      <td>['No Images']</td>\n",
       "    </tr>\n",
       "  </tbody>\n",
       "</table>\n",
       "</div>"
      ],
      "text/plain": [
       "          name         location                     Date  Rating  \\\n",
       "62      Sharon     Culpeper, VA   Reviewed July 18, 2022     2.0   \n",
       "100     Donald      Orlando, FL   Reviewed Nov. 22, 2021     1.0   \n",
       "793    Maureen     Lakewood, WA  Reviewed March 25, 2009     NaN   \n",
       "794  Maryellen     Richmond, TX  Reviewed March 23, 2009     NaN   \n",
       "795        Ben  Shanghai, OTHER  Reviewed March 23, 2009     NaN   \n",
       "\n",
       "             Review    Image_Links  \n",
       "62   No Review Text  ['No Images']  \n",
       "100  No Review Text  ['No Images']  \n",
       "793  No Review Text  ['No Images']  \n",
       "794  No Review Text  ['No Images']  \n",
       "795  No Review Text  ['No Images']  "
      ]
     },
     "execution_count": 5,
     "metadata": {},
     "output_type": "execute_result"
    }
   ],
   "source": [
    "df[df['Review'] == 'No Review Text'].head()"
   ]
  },
  {
   "cell_type": "code",
   "execution_count": 6,
   "id": "3331f1a1",
   "metadata": {
    "execution": {
     "iopub.execute_input": "2024-04-26T19:06:13.776667Z",
     "iopub.status.busy": "2024-04-26T19:06:13.776219Z",
     "iopub.status.idle": "2024-04-26T19:06:14.121939Z",
     "shell.execute_reply": "2024-04-26T19:06:14.120627Z"
    },
    "papermill": {
     "duration": 0.368189,
     "end_time": "2024-04-26T19:06:14.125235",
     "exception": false,
     "start_time": "2024-04-26T19:06:13.757046",
     "status": "completed"
    },
    "tags": []
   },
   "outputs": [
    {
     "data": {
      "image/png": "[encoded data removed]",
      "text/plain": [
       "<Figure size 1000x500 with 1 Axes>"
      ]
     },
     "metadata": {},
     "output_type": "display_data"
    }
   ],
   "source": [
    "ax = df['Rating'].value_counts().sort_index()\n",
    "ax.plot(kind='bar',title='Count of Reviews by Stars', figsize =(10,5))\n",
    "plt.show()"
   ]
  },
  {
   "cell_type": "code",
   "execution_count": 7,
   "id": "0df6cc22",
   "metadata": {
    "execution": {
     "iopub.execute_input": "2024-04-26T19:06:14.165121Z",
     "iopub.status.busy": "2024-04-26T19:06:14.164592Z",
     "iopub.status.idle": "2024-04-26T19:06:14.171816Z",
     "shell.execute_reply": "2024-04-26T19:06:14.170433Z"
    },
    "papermill": {
     "duration": 0.030006,
     "end_time": "2024-04-26T19:06:14.174399",
     "exception": false,
     "start_time": "2024-04-26T19:06:14.144393",
     "status": "completed"
    },
    "tags": []
   },
   "outputs": [
    {
     "name": "stdout",
     "output_type": "stream",
     "text": [
      "I filed a BBB complaint last month because Starbucks canceled my Starbucks Reward cards. I couldn't remember the balances, so I guessed about $9. Starbucks played nothing but games and tried everything they could to avoid responding to the complaint. I received a couple of phone call messages asking me to contact them directly and discuss the matter. The number provided was the customer service number and when I spoke with one representative, Linda hung up the phone on me. I did not use my card since 2012 which is my prerogative. Because of this and other reasons, Starbucks decided to close my Starbucks account. I reopened one about a few weeks ago and added a new card that I have not used yet.\n"
     ]
    }
   ],
   "source": [
    "## Example for the reviews\n",
    "ex = df['Review'][10]\n",
    "print(ex)"
   ]
  },
  {
   "cell_type": "code",
   "execution_count": 8,
   "id": "22ed1bba",
   "metadata": {
    "execution": {
     "iopub.execute_input": "2024-04-26T19:06:14.210708Z",
     "iopub.status.busy": "2024-04-26T19:06:14.210242Z",
     "iopub.status.idle": "2024-04-26T19:06:14.237606Z",
     "shell.execute_reply": "2024-04-26T19:06:14.236325Z"
    },
    "papermill": {
     "duration": 0.048714,
     "end_time": "2024-04-26T19:06:14.240311",
     "exception": false,
     "start_time": "2024-04-26T19:06:14.191597",
     "status": "completed"
    },
    "tags": []
   },
   "outputs": [
    {
     "data": {
      "text/plain": [
       "['I',\n",
       " 'filed',\n",
       " 'a',\n",
       " 'BBB',\n",
       " 'complaint',\n",
       " 'last',\n",
       " 'month',\n",
       " 'because',\n",
       " 'Starbucks',\n",
       " 'canceled']"
      ]
     },
     "execution_count": 8,
     "metadata": {},
     "output_type": "execute_result"
    }
   ],
   "source": [
    "tokens = nltk.word_tokenize(ex)\n",
    "tokens[:10]"
   ]
  },
  {
   "cell_type": "code",
   "execution_count": 9,
   "id": "48c06930",
   "metadata": {
    "execution": {
     "iopub.execute_input": "2024-04-26T19:06:14.277688Z",
     "iopub.status.busy": "2024-04-26T19:06:14.276692Z",
     "iopub.status.idle": "2024-04-26T19:06:14.511098Z",
     "shell.execute_reply": "2024-04-26T19:06:14.509821Z"
    },
    "papermill": {
     "duration": 0.255922,
     "end_time": "2024-04-26T19:06:14.513761",
     "exception": false,
     "start_time": "2024-04-26T19:06:14.257839",
     "status": "completed"
    },
    "tags": []
   },
   "outputs": [
    {
     "data": {
      "text/plain": [
       "[('I', 'PRP'),\n",
       " ('filed', 'VBD'),\n",
       " ('a', 'DT'),\n",
       " ('BBB', 'NNP'),\n",
       " ('complaint', 'NN'),\n",
       " ('last', 'JJ'),\n",
       " ('month', 'NN'),\n",
       " ('because', 'IN'),\n",
       " ('Starbucks', 'NNP'),\n",
       " ('canceled', 'VBD')]"
      ]
     },
     "execution_count": 9,
     "metadata": {},
     "output_type": "execute_result"
    }
   ],
   "source": [
    "tagged = nltk.pos_tag(tokens)\n",
    "tagged[:10]"
   ]
  },
  {
   "cell_type": "markdown",
   "id": "1daa9ff8",
   "metadata": {
    "papermill": {
     "duration": 0.022833,
     "end_time": "2024-04-26T19:06:14.560526",
     "exception": false,
     "start_time": "2024-04-26T19:06:14.537693",
     "status": "completed"
    },
    "tags": []
   },
   "source": [
    "# Data Cleaning"
   ]
  },
  {
   "cell_type": "code",
   "execution_count": 10,
   "id": "6c9eeb80",
   "metadata": {
    "execution": {
     "iopub.execute_input": "2024-04-26T19:06:14.612866Z",
     "iopub.status.busy": "2024-04-26T19:06:14.611973Z",
     "iopub.status.idle": "2024-04-26T19:06:14.623511Z",
     "shell.execute_reply": "2024-04-26T19:06:14.622141Z"
    },
    "papermill": {
     "duration": 0.041916,
     "end_time": "2024-04-26T19:06:14.627235",
     "exception": false,
     "start_time": "2024-04-26T19:06:14.585319",
     "status": "completed"
    },
    "tags": []
   },
   "outputs": [],
   "source": [
    "# Remove all Review that contain no text\n",
    "df = df[df['Review'] != 'No Review Text']\n",
    "# fill the unrated review with 3    \n",
    "df = df.fillna(3)"
   ]
  },
  {
   "cell_type": "code",
   "execution_count": 11,
   "id": "a8ba08cd",
   "metadata": {
    "execution": {
     "iopub.execute_input": "2024-04-26T19:06:14.680193Z",
     "iopub.status.busy": "2024-04-26T19:06:14.679771Z",
     "iopub.status.idle": "2024-04-26T19:06:14.689256Z",
     "shell.execute_reply": "2024-04-26T19:06:14.688228Z"
    },
    "papermill": {
     "duration": 0.038624,
     "end_time": "2024-04-26T19:06:14.691546",
     "exception": false,
     "start_time": "2024-04-26T19:06:14.652922",
     "status": "completed"
    },
    "tags": []
   },
   "outputs": [
    {
     "data": {
      "text/plain": [
       "name           0\n",
       "location       0\n",
       "Date           0\n",
       "Rating         0\n",
       "Review         0\n",
       "Image_Links    0\n",
       "dtype: int64"
      ]
     },
     "execution_count": 11,
     "metadata": {},
     "output_type": "execute_result"
    }
   ],
   "source": [
    "df.isna().sum()"
   ]
  },
  {
   "cell_type": "markdown",
   "id": "ad8fa354",
   "metadata": {
    "papermill": {
     "duration": 0.017565,
     "end_time": "2024-04-26T19:06:14.726891",
     "exception": false,
     "start_time": "2024-04-26T19:06:14.709326",
     "status": "completed"
    },
    "tags": []
   },
   "source": [
    "# Add ID column"
   ]
  },
  {
   "cell_type": "code",
   "execution_count": 12,
   "id": "9a13f03f",
   "metadata": {
    "execution": {
     "iopub.execute_input": "2024-04-26T19:06:14.764304Z",
     "iopub.status.busy": "2024-04-26T19:06:14.763891Z",
     "iopub.status.idle": "2024-04-26T19:06:14.770386Z",
     "shell.execute_reply": "2024-04-26T19:06:14.769248Z"
    },
    "papermill": {
     "duration": 0.028597,
     "end_time": "2024-04-26T19:06:14.773115",
     "exception": false,
     "start_time": "2024-04-26T19:06:14.744518",
     "status": "completed"
    },
    "tags": []
   },
   "outputs": [],
   "source": [
    "df['id'] = range(1, len(df)+1)"
   ]
  },
  {
   "cell_type": "code",
   "execution_count": 13,
   "id": "c89562b9",
   "metadata": {
    "execution": {
     "iopub.execute_input": "2024-04-26T19:06:14.811598Z",
     "iopub.status.busy": "2024-04-26T19:06:14.811172Z",
     "iopub.status.idle": "2024-04-26T19:06:14.832694Z",
     "shell.execute_reply": "2024-04-26T19:06:14.831352Z"
    },
    "papermill": {
     "duration": 0.044595,
     "end_time": "2024-04-26T19:06:14.835710",
     "exception": false,
     "start_time": "2024-04-26T19:06:14.791115",
     "status": "completed"
    },
    "tags": []
   },
   "outputs": [
    {
     "data": {
      "text/html": [
       "<div>\n",
       "<style scoped>\n",
       "    .dataframe tbody tr th:only-of-type {\n",
       "        vertical-align: middle;\n",
       "    }\n",
       "\n",
       "    .dataframe tbody tr th {\n",
       "        vertical-align: top;\n",
       "    }\n",
       "\n",
       "    .dataframe thead th {\n",
       "        text-align: right;\n",
       "    }\n",
       "</style>\n",
       "<table border=\"1\" class=\"dataframe\">\n",
       "  <thead>\n",
       "    <tr style=\"text-align: right;\">\n",
       "      <th></th>\n",
       "      <th>name</th>\n",
       "      <th>location</th>\n",
       "      <th>Date</th>\n",
       "      <th>Rating</th>\n",
       "      <th>Review</th>\n",
       "      <th>Image_Links</th>\n",
       "      <th>id</th>\n",
       "    </tr>\n",
       "  </thead>\n",
       "  <tbody>\n",
       "    <tr>\n",
       "      <th>0</th>\n",
       "      <td>Helen</td>\n",
       "      <td>Wichita Falls, TX</td>\n",
       "      <td>Reviewed Sept. 13, 2023</td>\n",
       "      <td>5.0</td>\n",
       "      <td>Amber and LaDonna at the Starbucks on Southwes...</td>\n",
       "      <td>['No Images']</td>\n",
       "      <td>1</td>\n",
       "    </tr>\n",
       "    <tr>\n",
       "      <th>1</th>\n",
       "      <td>Courtney</td>\n",
       "      <td>Apopka, FL</td>\n",
       "      <td>Reviewed July 16, 2023</td>\n",
       "      <td>5.0</td>\n",
       "      <td>** at the Starbucks by the fire station on 436...</td>\n",
       "      <td>['No Images']</td>\n",
       "      <td>2</td>\n",
       "    </tr>\n",
       "    <tr>\n",
       "      <th>2</th>\n",
       "      <td>Daynelle</td>\n",
       "      <td>Cranberry Twp, PA</td>\n",
       "      <td>Reviewed July 5, 2023</td>\n",
       "      <td>5.0</td>\n",
       "      <td>I just wanted to go out of my way to recognize...</td>\n",
       "      <td>['https://media.consumeraffairs.com/files/cach...</td>\n",
       "      <td>3</td>\n",
       "    </tr>\n",
       "    <tr>\n",
       "      <th>3</th>\n",
       "      <td>Taylor</td>\n",
       "      <td>Seattle, WA</td>\n",
       "      <td>Reviewed May 26, 2023</td>\n",
       "      <td>5.0</td>\n",
       "      <td>Me and my friend were at Starbucks and my card...</td>\n",
       "      <td>['No Images']</td>\n",
       "      <td>4</td>\n",
       "    </tr>\n",
       "    <tr>\n",
       "      <th>4</th>\n",
       "      <td>Tenessa</td>\n",
       "      <td>Gresham, OR</td>\n",
       "      <td>Reviewed Jan. 22, 2023</td>\n",
       "      <td>5.0</td>\n",
       "      <td>I’m on this kick of drinking 5 cups of warm wa...</td>\n",
       "      <td>['https://media.consumeraffairs.com/files/cach...</td>\n",
       "      <td>5</td>\n",
       "    </tr>\n",
       "  </tbody>\n",
       "</table>\n",
       "</div>"
      ],
      "text/plain": [
       "       name           location                     Date  Rating  \\\n",
       "0     Helen  Wichita Falls, TX  Reviewed Sept. 13, 2023     5.0   \n",
       "1  Courtney         Apopka, FL   Reviewed July 16, 2023     5.0   \n",
       "2  Daynelle  Cranberry Twp, PA    Reviewed July 5, 2023     5.0   \n",
       "3    Taylor        Seattle, WA    Reviewed May 26, 2023     5.0   \n",
       "4   Tenessa        Gresham, OR   Reviewed Jan. 22, 2023     5.0   \n",
       "\n",
       "                                              Review  \\\n",
       "0  Amber and LaDonna at the Starbucks on Southwes...   \n",
       "1  ** at the Starbucks by the fire station on 436...   \n",
       "2  I just wanted to go out of my way to recognize...   \n",
       "3  Me and my friend were at Starbucks and my card...   \n",
       "4  I’m on this kick of drinking 5 cups of warm wa...   \n",
       "\n",
       "                                         Image_Links  id  \n",
       "0                                      ['No Images']   1  \n",
       "1                                      ['No Images']   2  \n",
       "2  ['https://media.consumeraffairs.com/files/cach...   3  \n",
       "3                                      ['No Images']   4  \n",
       "4  ['https://media.consumeraffairs.com/files/cach...   5  "
      ]
     },
     "execution_count": 13,
     "metadata": {},
     "output_type": "execute_result"
    }
   ],
   "source": [
    "df.head()"
   ]
  },
  {
   "cell_type": "markdown",
   "id": "c585da30",
   "metadata": {
    "papermill": {
     "duration": 0.017994,
     "end_time": "2024-04-26T19:06:14.873022",
     "exception": false,
     "start_time": "2024-04-26T19:06:14.855028",
     "status": "completed"
    },
    "tags": []
   },
   "source": [
    "# VADER Seniment"
   ]
  },
  {
   "cell_type": "code",
   "execution_count": 14,
   "id": "c2b1f91b",
   "metadata": {
    "execution": {
     "iopub.execute_input": "2024-04-26T19:06:14.912981Z",
     "iopub.status.busy": "2024-04-26T19:06:14.912596Z",
     "iopub.status.idle": "2024-04-26T19:06:14.938300Z",
     "shell.execute_reply": "2024-04-26T19:06:14.937175Z"
    },
    "papermill": {
     "duration": 0.047431,
     "end_time": "2024-04-26T19:06:14.940749",
     "exception": false,
     "start_time": "2024-04-26T19:06:14.893318",
     "status": "completed"
    },
    "tags": []
   },
   "outputs": [
    {
     "name": "stderr",
     "output_type": "stream",
     "text": [
      "/opt/conda/lib/python3.10/site-packages/nltk/twitter/__init__.py:20: UserWarning: The twython library has not been installed. Some functionality from the twitter package will not be available.\n",
      "  warnings.warn(\"The twython library has not been installed. \"\n"
     ]
    }
   ],
   "source": [
    "from nltk.sentiment import SentimentIntensityAnalyzer\n",
    "from tqdm.notebook import tqdm\n",
    "\n",
    "import warnings\n",
    "warnings.filterwarnings('ignore')"
   ]
  },
  {
   "cell_type": "code",
   "execution_count": 15,
   "id": "733b6b13",
   "metadata": {
    "execution": {
     "iopub.execute_input": "2024-04-26T19:06:14.980164Z",
     "iopub.status.busy": "2024-04-26T19:06:14.979073Z",
     "iopub.status.idle": "2024-04-26T19:06:15.005264Z",
     "shell.execute_reply": "2024-04-26T19:06:15.004031Z"
    },
    "papermill": {
     "duration": 0.048808,
     "end_time": "2024-04-26T19:06:15.008167",
     "exception": false,
     "start_time": "2024-04-26T19:06:14.959359",
     "status": "completed"
    },
    "tags": []
   },
   "outputs": [],
   "source": [
    "sia = SentimentIntensityAnalyzer()"
   ]
  },
  {
   "cell_type": "code",
   "execution_count": 16,
   "id": "a8826659",
   "metadata": {
    "execution": {
     "iopub.execute_input": "2024-04-26T19:06:15.106727Z",
     "iopub.status.busy": "2024-04-26T19:06:15.106291Z",
     "iopub.status.idle": "2024-04-26T19:06:15.113871Z",
     "shell.execute_reply": "2024-04-26T19:06:15.112795Z"
    },
    "papermill": {
     "duration": 0.089769,
     "end_time": "2024-04-26T19:06:15.116177",
     "exception": false,
     "start_time": "2024-04-26T19:06:15.026408",
     "status": "completed"
    },
    "tags": []
   },
   "outputs": [
    {
     "data": {
      "text/plain": [
       "{'neg': 0.756, 'neu': 0.244, 'pos': 0.0, 'compound': -0.4767}"
      ]
     },
     "execution_count": 16,
     "metadata": {},
     "output_type": "execute_result"
    }
   ],
   "source": [
    "sia.polarity_scores('I am Sad')"
   ]
  },
  {
   "cell_type": "code",
   "execution_count": 17,
   "id": "9cbf163c",
   "metadata": {
    "execution": {
     "iopub.execute_input": "2024-04-26T19:06:15.155741Z",
     "iopub.status.busy": "2024-04-26T19:06:15.155226Z",
     "iopub.status.idle": "2024-04-26T19:06:15.163203Z",
     "shell.execute_reply": "2024-04-26T19:06:15.161797Z"
    },
    "papermill": {
     "duration": 0.030846,
     "end_time": "2024-04-26T19:06:15.166053",
     "exception": false,
     "start_time": "2024-04-26T19:06:15.135207",
     "status": "completed"
    },
    "tags": []
   },
   "outputs": [
    {
     "data": {
      "text/plain": [
       "{'neg': 0.0, 'neu': 0.0, 'pos': 1.0, 'compound': 0.4215}"
      ]
     },
     "execution_count": 17,
     "metadata": {},
     "output_type": "execute_result"
    }
   ],
   "source": [
    "sia.polarity_scores('lol')"
   ]
  },
  {
   "cell_type": "code",
   "execution_count": 18,
   "id": "c0cdcbdb",
   "metadata": {
    "execution": {
     "iopub.execute_input": "2024-04-26T19:06:15.205251Z",
     "iopub.status.busy": "2024-04-26T19:06:15.204866Z",
     "iopub.status.idle": "2024-04-26T19:06:15.214491Z",
     "shell.execute_reply": "2024-04-26T19:06:15.213356Z"
    },
    "papermill": {
     "duration": 0.032641,
     "end_time": "2024-04-26T19:06:15.217345",
     "exception": false,
     "start_time": "2024-04-26T19:06:15.184704",
     "status": "completed"
    },
    "tags": []
   },
   "outputs": [
    {
     "data": {
      "text/plain": [
       "{'neg': 0.06, 'neu': 0.872, 'pos': 0.068, 'compound': -0.2732}"
      ]
     },
     "execution_count": 18,
     "metadata": {},
     "output_type": "execute_result"
    }
   ],
   "source": [
    "sia.polarity_scores(ex)"
   ]
  },
  {
   "cell_type": "code",
   "execution_count": 19,
   "id": "5047add7",
   "metadata": {
    "execution": {
     "iopub.execute_input": "2024-04-26T19:06:15.258438Z",
     "iopub.status.busy": "2024-04-26T19:06:15.257957Z",
     "iopub.status.idle": "2024-04-26T19:06:16.639317Z",
     "shell.execute_reply": "2024-04-26T19:06:16.638083Z"
    },
    "papermill": {
     "duration": 1.406411,
     "end_time": "2024-04-26T19:06:16.643322",
     "exception": false,
     "start_time": "2024-04-26T19:06:15.236911",
     "status": "completed"
    },
    "tags": []
   },
   "outputs": [
    {
     "data": {
      "application/vnd.jupyter.widget-view+json": {
       "model_id": "7be1b8fb989a4ff6a155f45b79430442",
       "version_major": 2,
       "version_minor": 0
      },
      "text/plain": [
       "  0%|          | 0/813 [00:00<?, ?it/s]"
      ]
     },
     "metadata": {},
     "output_type": "display_data"
    }
   ],
   "source": [
    "res = {}\n",
    "for i, row in tqdm(df.iterrows(), total=len(df)):\n",
    "    Review = row['Review']\n",
    "    ID = row['id']\n",
    "    res[ID] = sia.polarity_scores(Review)"
   ]
  },
  {
   "cell_type": "code",
   "execution_count": 20,
   "id": "920218ca",
   "metadata": {
    "execution": {
     "iopub.execute_input": "2024-04-26T19:06:16.683823Z",
     "iopub.status.busy": "2024-04-26T19:06:16.683369Z",
     "iopub.status.idle": "2024-04-26T19:06:16.737920Z",
     "shell.execute_reply": "2024-04-26T19:06:16.736741Z"
    },
    "papermill": {
     "duration": 0.078129,
     "end_time": "2024-04-26T19:06:16.740683",
     "exception": false,
     "start_time": "2024-04-26T19:06:16.662554",
     "status": "completed"
    },
    "tags": []
   },
   "outputs": [
    {
     "data": {
      "text/html": [
       "<div>\n",
       "<style scoped>\n",
       "    .dataframe tbody tr th:only-of-type {\n",
       "        vertical-align: middle;\n",
       "    }\n",
       "\n",
       "    .dataframe tbody tr th {\n",
       "        vertical-align: top;\n",
       "    }\n",
       "\n",
       "    .dataframe thead th {\n",
       "        text-align: right;\n",
       "    }\n",
       "</style>\n",
       "<table border=\"1\" class=\"dataframe\">\n",
       "  <thead>\n",
       "    <tr style=\"text-align: right;\">\n",
       "      <th></th>\n",
       "      <th>1</th>\n",
       "      <th>2</th>\n",
       "      <th>3</th>\n",
       "      <th>4</th>\n",
       "      <th>5</th>\n",
       "      <th>6</th>\n",
       "      <th>7</th>\n",
       "      <th>8</th>\n",
       "      <th>9</th>\n",
       "      <th>10</th>\n",
       "      <th>...</th>\n",
       "      <th>804</th>\n",
       "      <th>805</th>\n",
       "      <th>806</th>\n",
       "      <th>807</th>\n",
       "      <th>808</th>\n",
       "      <th>809</th>\n",
       "      <th>810</th>\n",
       "      <th>811</th>\n",
       "      <th>812</th>\n",
       "      <th>813</th>\n",
       "    </tr>\n",
       "  </thead>\n",
       "  <tbody>\n",
       "    <tr>\n",
       "      <th>neg</th>\n",
       "      <td>0.0000</td>\n",
       "      <td>0.0990</td>\n",
       "      <td>0.0870</td>\n",
       "      <td>0.0530</td>\n",
       "      <td>0.0000</td>\n",
       "      <td>0.1090</td>\n",
       "      <td>0.1910</td>\n",
       "      <td>0.0330</td>\n",
       "      <td>0.1960</td>\n",
       "      <td>0.2100</td>\n",
       "      <td>...</td>\n",
       "      <td>0.0000</td>\n",
       "      <td>0.0390</td>\n",
       "      <td>0.0</td>\n",
       "      <td>0.089</td>\n",
       "      <td>0.1310</td>\n",
       "      <td>0.0</td>\n",
       "      <td>0.0</td>\n",
       "      <td>0.0610</td>\n",
       "      <td>0.0890</td>\n",
       "      <td>0.1620</td>\n",
       "    </tr>\n",
       "    <tr>\n",
       "      <th>neu</th>\n",
       "      <td>0.7970</td>\n",
       "      <td>0.7550</td>\n",
       "      <td>0.7670</td>\n",
       "      <td>0.6820</td>\n",
       "      <td>0.6690</td>\n",
       "      <td>0.8910</td>\n",
       "      <td>0.8090</td>\n",
       "      <td>0.8180</td>\n",
       "      <td>0.8040</td>\n",
       "      <td>0.6490</td>\n",
       "      <td>...</td>\n",
       "      <td>0.8730</td>\n",
       "      <td>0.8960</td>\n",
       "      <td>1.0</td>\n",
       "      <td>0.874</td>\n",
       "      <td>0.8690</td>\n",
       "      <td>1.0</td>\n",
       "      <td>1.0</td>\n",
       "      <td>0.8800</td>\n",
       "      <td>0.8670</td>\n",
       "      <td>0.8380</td>\n",
       "    </tr>\n",
       "    <tr>\n",
       "      <th>pos</th>\n",
       "      <td>0.2030</td>\n",
       "      <td>0.1450</td>\n",
       "      <td>0.1450</td>\n",
       "      <td>0.2650</td>\n",
       "      <td>0.3310</td>\n",
       "      <td>0.0000</td>\n",
       "      <td>0.0000</td>\n",
       "      <td>0.1500</td>\n",
       "      <td>0.0000</td>\n",
       "      <td>0.1410</td>\n",
       "      <td>...</td>\n",
       "      <td>0.1270</td>\n",
       "      <td>0.0650</td>\n",
       "      <td>0.0</td>\n",
       "      <td>0.037</td>\n",
       "      <td>0.0000</td>\n",
       "      <td>0.0</td>\n",
       "      <td>0.0</td>\n",
       "      <td>0.0580</td>\n",
       "      <td>0.0440</td>\n",
       "      <td>0.0000</td>\n",
       "    </tr>\n",
       "    <tr>\n",
       "      <th>compound</th>\n",
       "      <td>0.8991</td>\n",
       "      <td>0.7766</td>\n",
       "      <td>0.5242</td>\n",
       "      <td>0.9698</td>\n",
       "      <td>0.9793</td>\n",
       "      <td>-0.7269</td>\n",
       "      <td>-0.8031</td>\n",
       "      <td>0.8994</td>\n",
       "      <td>-0.8316</td>\n",
       "      <td>-0.7912</td>\n",
       "      <td>...</td>\n",
       "      <td>0.7269</td>\n",
       "      <td>0.5859</td>\n",
       "      <td>0.0</td>\n",
       "      <td>-0.705</td>\n",
       "      <td>-0.3089</td>\n",
       "      <td>0.0</td>\n",
       "      <td>0.0</td>\n",
       "      <td>-0.0772</td>\n",
       "      <td>-0.3182</td>\n",
       "      <td>-0.6833</td>\n",
       "    </tr>\n",
       "  </tbody>\n",
       "</table>\n",
       "<p>4 rows × 813 columns</p>\n",
       "</div>"
      ],
      "text/plain": [
       "             1       2       3       4       5       6       7       8    \\\n",
       "neg       0.0000  0.0990  0.0870  0.0530  0.0000  0.1090  0.1910  0.0330   \n",
       "neu       0.7970  0.7550  0.7670  0.6820  0.6690  0.8910  0.8090  0.8180   \n",
       "pos       0.2030  0.1450  0.1450  0.2650  0.3310  0.0000  0.0000  0.1500   \n",
       "compound  0.8991  0.7766  0.5242  0.9698  0.9793 -0.7269 -0.8031  0.8994   \n",
       "\n",
       "             9       10   ...     804     805  806    807     808  809  810  \\\n",
       "neg       0.1960  0.2100  ...  0.0000  0.0390  0.0  0.089  0.1310  0.0  0.0   \n",
       "neu       0.8040  0.6490  ...  0.8730  0.8960  1.0  0.874  0.8690  1.0  1.0   \n",
       "pos       0.0000  0.1410  ...  0.1270  0.0650  0.0  0.037  0.0000  0.0  0.0   \n",
       "compound -0.8316 -0.7912  ...  0.7269  0.5859  0.0 -0.705 -0.3089  0.0  0.0   \n",
       "\n",
       "             811     812     813  \n",
       "neg       0.0610  0.0890  0.1620  \n",
       "neu       0.8800  0.8670  0.8380  \n",
       "pos       0.0580  0.0440  0.0000  \n",
       "compound -0.0772 -0.3182 -0.6833  \n",
       "\n",
       "[4 rows x 813 columns]"
      ]
     },
     "execution_count": 20,
     "metadata": {},
     "output_type": "execute_result"
    }
   ],
   "source": [
    "pd.DataFrame(res)"
   ]
  },
  {
   "cell_type": "code",
   "execution_count": 21,
   "id": "5aa353c4",
   "metadata": {
    "execution": {
     "iopub.execute_input": "2024-04-26T19:06:16.782098Z",
     "iopub.status.busy": "2024-04-26T19:06:16.780866Z",
     "iopub.status.idle": "2024-04-26T19:06:16.821716Z",
     "shell.execute_reply": "2024-04-26T19:06:16.820497Z"
    },
    "papermill": {
     "duration": 0.06435,
     "end_time": "2024-04-26T19:06:16.824568",
     "exception": false,
     "start_time": "2024-04-26T19:06:16.760218",
     "status": "completed"
    },
    "tags": []
   },
   "outputs": [],
   "source": [
    "Vaders = pd.DataFrame(res).T\n",
    "Vaders = Vaders.reset_index().rename(columns={'index':'id'})\n",
    "Vaders = Vaders.merge(df, how='left')"
   ]
  },
  {
   "cell_type": "code",
   "execution_count": 22,
   "id": "9ce8ff0f",
   "metadata": {
    "execution": {
     "iopub.execute_input": "2024-04-26T19:06:16.865496Z",
     "iopub.status.busy": "2024-04-26T19:06:16.865058Z",
     "iopub.status.idle": "2024-04-26T19:06:16.884217Z",
     "shell.execute_reply": "2024-04-26T19:06:16.883057Z"
    },
    "papermill": {
     "duration": 0.042441,
     "end_time": "2024-04-26T19:06:16.886544",
     "exception": false,
     "start_time": "2024-04-26T19:06:16.844103",
     "status": "completed"
    },
    "tags": []
   },
   "outputs": [
    {
     "data": {
      "text/html": [
       "<div>\n",
       "<style scoped>\n",
       "    .dataframe tbody tr th:only-of-type {\n",
       "        vertical-align: middle;\n",
       "    }\n",
       "\n",
       "    .dataframe tbody tr th {\n",
       "        vertical-align: top;\n",
       "    }\n",
       "\n",
       "    .dataframe thead th {\n",
       "        text-align: right;\n",
       "    }\n",
       "</style>\n",
       "<table border=\"1\" class=\"dataframe\">\n",
       "  <thead>\n",
       "    <tr style=\"text-align: right;\">\n",
       "      <th></th>\n",
       "      <th>id</th>\n",
       "      <th>neg</th>\n",
       "      <th>neu</th>\n",
       "      <th>pos</th>\n",
       "      <th>compound</th>\n",
       "      <th>name</th>\n",
       "      <th>location</th>\n",
       "      <th>Date</th>\n",
       "      <th>Rating</th>\n",
       "      <th>Review</th>\n",
       "      <th>Image_Links</th>\n",
       "    </tr>\n",
       "  </thead>\n",
       "  <tbody>\n",
       "    <tr>\n",
       "      <th>0</th>\n",
       "      <td>1</td>\n",
       "      <td>0.000</td>\n",
       "      <td>0.797</td>\n",
       "      <td>0.203</td>\n",
       "      <td>0.8991</td>\n",
       "      <td>Helen</td>\n",
       "      <td>Wichita Falls, TX</td>\n",
       "      <td>Reviewed Sept. 13, 2023</td>\n",
       "      <td>5.0</td>\n",
       "      <td>Amber and LaDonna at the Starbucks on Southwes...</td>\n",
       "      <td>['No Images']</td>\n",
       "    </tr>\n",
       "    <tr>\n",
       "      <th>1</th>\n",
       "      <td>2</td>\n",
       "      <td>0.099</td>\n",
       "      <td>0.755</td>\n",
       "      <td>0.145</td>\n",
       "      <td>0.7766</td>\n",
       "      <td>Courtney</td>\n",
       "      <td>Apopka, FL</td>\n",
       "      <td>Reviewed July 16, 2023</td>\n",
       "      <td>5.0</td>\n",
       "      <td>** at the Starbucks by the fire station on 436...</td>\n",
       "      <td>['No Images']</td>\n",
       "    </tr>\n",
       "    <tr>\n",
       "      <th>2</th>\n",
       "      <td>3</td>\n",
       "      <td>0.087</td>\n",
       "      <td>0.767</td>\n",
       "      <td>0.145</td>\n",
       "      <td>0.5242</td>\n",
       "      <td>Daynelle</td>\n",
       "      <td>Cranberry Twp, PA</td>\n",
       "      <td>Reviewed July 5, 2023</td>\n",
       "      <td>5.0</td>\n",
       "      <td>I just wanted to go out of my way to recognize...</td>\n",
       "      <td>['https://media.consumeraffairs.com/files/cach...</td>\n",
       "    </tr>\n",
       "    <tr>\n",
       "      <th>3</th>\n",
       "      <td>4</td>\n",
       "      <td>0.053</td>\n",
       "      <td>0.682</td>\n",
       "      <td>0.265</td>\n",
       "      <td>0.9698</td>\n",
       "      <td>Taylor</td>\n",
       "      <td>Seattle, WA</td>\n",
       "      <td>Reviewed May 26, 2023</td>\n",
       "      <td>5.0</td>\n",
       "      <td>Me and my friend were at Starbucks and my card...</td>\n",
       "      <td>['No Images']</td>\n",
       "    </tr>\n",
       "    <tr>\n",
       "      <th>4</th>\n",
       "      <td>5</td>\n",
       "      <td>0.000</td>\n",
       "      <td>0.669</td>\n",
       "      <td>0.331</td>\n",
       "      <td>0.9793</td>\n",
       "      <td>Tenessa</td>\n",
       "      <td>Gresham, OR</td>\n",
       "      <td>Reviewed Jan. 22, 2023</td>\n",
       "      <td>5.0</td>\n",
       "      <td>I’m on this kick of drinking 5 cups of warm wa...</td>\n",
       "      <td>['https://media.consumeraffairs.com/files/cach...</td>\n",
       "    </tr>\n",
       "  </tbody>\n",
       "</table>\n",
       "</div>"
      ],
      "text/plain": [
       "   id    neg    neu    pos  compound      name           location  \\\n",
       "0   1  0.000  0.797  0.203    0.8991     Helen  Wichita Falls, TX   \n",
       "1   2  0.099  0.755  0.145    0.7766  Courtney         Apopka, FL   \n",
       "2   3  0.087  0.767  0.145    0.5242  Daynelle  Cranberry Twp, PA   \n",
       "3   4  0.053  0.682  0.265    0.9698    Taylor        Seattle, WA   \n",
       "4   5  0.000  0.669  0.331    0.9793   Tenessa        Gresham, OR   \n",
       "\n",
       "                      Date  Rating  \\\n",
       "0  Reviewed Sept. 13, 2023     5.0   \n",
       "1   Reviewed July 16, 2023     5.0   \n",
       "2    Reviewed July 5, 2023     5.0   \n",
       "3    Reviewed May 26, 2023     5.0   \n",
       "4   Reviewed Jan. 22, 2023     5.0   \n",
       "\n",
       "                                              Review  \\\n",
       "0  Amber and LaDonna at the Starbucks on Southwes...   \n",
       "1  ** at the Starbucks by the fire station on 436...   \n",
       "2  I just wanted to go out of my way to recognize...   \n",
       "3  Me and my friend were at Starbucks and my card...   \n",
       "4  I’m on this kick of drinking 5 cups of warm wa...   \n",
       "\n",
       "                                         Image_Links  \n",
       "0                                      ['No Images']  \n",
       "1                                      ['No Images']  \n",
       "2  ['https://media.consumeraffairs.com/files/cach...  \n",
       "3                                      ['No Images']  \n",
       "4  ['https://media.consumeraffairs.com/files/cach...  "
      ]
     },
     "execution_count": 22,
     "metadata": {},
     "output_type": "execute_result"
    }
   ],
   "source": [
    "Vaders.head()"
   ]
  },
  {
   "cell_type": "code",
   "execution_count": 23,
   "id": "ea57ea5e",
   "metadata": {
    "execution": {
     "iopub.execute_input": "2024-04-26T19:06:16.927783Z",
     "iopub.status.busy": "2024-04-26T19:06:16.927366Z",
     "iopub.status.idle": "2024-04-26T19:06:18.031430Z",
     "shell.execute_reply": "2024-04-26T19:06:18.030383Z"
    },
    "papermill": {
     "duration": 1.1275,
     "end_time": "2024-04-26T19:06:18.033803",
     "exception": false,
     "start_time": "2024-04-26T19:06:16.906303",
     "status": "completed"
    },
    "tags": []
   },
   "outputs": [
    {
     "data": {
      "image/png": "[encoded data removed]",
      "text/plain": [
       "<Figure size 1200x300 with 3 Axes>"
      ]
     },
     "metadata": {},
     "output_type": "display_data"
    }
   ],
   "source": [
    "fig, axs = plt.subplots(1,3, figsize=(12,3))\n",
    "sns.barplot(data = Vaders, x='Rating', y='pos', ax=axs[0])\n",
    "sns.barplot(data = Vaders, x='Rating', y='neu', ax=axs[1])\n",
    "sns.barplot(data = Vaders, x='Rating', y='neg', ax=axs[2])\n",
    "axs[0].set_title('Positive')\n",
    "axs[1].set_title('Neutral')\n",
    "axs[2].set_title('Negative')\n",
    "plt.tight_layout()\n",
    "plt.show()"
   ]
  },
  {
   "cell_type": "code",
   "execution_count": 24,
   "id": "2120a26c",
   "metadata": {
    "execution": {
     "iopub.execute_input": "2024-04-26T19:06:18.076420Z",
     "iopub.status.busy": "2024-04-26T19:06:18.075975Z",
     "iopub.status.idle": "2024-04-26T19:06:18.083630Z",
     "shell.execute_reply": "2024-04-26T19:06:18.082442Z"
    },
    "papermill": {
     "duration": 0.031905,
     "end_time": "2024-04-26T19:06:18.086135",
     "exception": false,
     "start_time": "2024-04-26T19:06:18.054230",
     "status": "completed"
    },
    "tags": []
   },
   "outputs": [
    {
     "name": "stdout",
     "output_type": "stream",
     "text": [
      "Starbucks customer service is horrible! Worst experience I ever had. No replies, help or understanding. Very cheap and rude! I cannot believe this is a big company. I do like their coffee. Too bad they have such a bad management.\n"
     ]
    }
   ],
   "source": [
    "MostNeg = Vaders[(Vaders.neg == max(Vaders.neg))]\n",
    "print(MostNeg['Review'].iloc[0])"
   ]
  },
  {
   "cell_type": "code",
   "execution_count": 25,
   "id": "1d93673b",
   "metadata": {
    "execution": {
     "iopub.execute_input": "2024-04-26T19:06:18.129788Z",
     "iopub.status.busy": "2024-04-26T19:06:18.128560Z",
     "iopub.status.idle": "2024-04-26T19:06:18.136642Z",
     "shell.execute_reply": "2024-04-26T19:06:18.135468Z"
    },
    "papermill": {
     "duration": 0.032995,
     "end_time": "2024-04-26T19:06:18.139525",
     "exception": false,
     "start_time": "2024-04-26T19:06:18.106530",
     "status": "completed"
    },
    "tags": []
   },
   "outputs": [
    {
     "name": "stdout",
     "output_type": "stream",
     "text": [
      "Best crew ever at Wade Hampton Greer South Carolina. Awesome group of people... Friendly, clean and best coffee anywhere.\n"
     ]
    }
   ],
   "source": [
    "MostPos = Vaders[Vaders['pos'] == max(Vaders['pos'])]\n",
    "print(MostPos['Review'].iloc[0])"
   ]
  },
  {
   "cell_type": "code",
   "execution_count": 26,
   "id": "0534300d",
   "metadata": {
    "execution": {
     "iopub.execute_input": "2024-04-26T19:06:18.182953Z",
     "iopub.status.busy": "2024-04-26T19:06:18.182535Z",
     "iopub.status.idle": "2024-04-26T19:06:18.190547Z",
     "shell.execute_reply": "2024-04-26T19:06:18.189399Z"
    },
    "papermill": {
     "duration": 0.032697,
     "end_time": "2024-04-26T19:06:18.193064",
     "exception": false,
     "start_time": "2024-04-26T19:06:18.160367",
     "status": "completed"
    },
    "tags": []
   },
   "outputs": [
    {
     "name": "stdout",
     "output_type": "stream",
     "text": [
      "I spend about $30/day, is it asking too much to have a lid that does not fall off? I have contacted Starbucks customer service for months being told they are addressing the issue but nothing changes.\n"
     ]
    }
   ],
   "source": [
    "MostNeu = Vaders[Vaders['neu'] == max(Vaders['neu'])]\n",
    "print(MostNeu['Review'].iloc[0])"
   ]
  },
  {
   "cell_type": "markdown",
   "id": "8cd098bb",
   "metadata": {
    "papermill": {
     "duration": 0.020362,
     "end_time": "2024-04-26T19:06:18.234266",
     "exception": false,
     "start_time": "2024-04-26T19:06:18.213904",
     "status": "completed"
    },
    "tags": []
   },
   "source": [
    "it seems like a negative review\n",
    "let's take a better look at it"
   ]
  },
  {
   "cell_type": "code",
   "execution_count": 27,
   "id": "1ba63ed7",
   "metadata": {
    "execution": {
     "iopub.execute_input": "2024-04-26T19:06:18.278675Z",
     "iopub.status.busy": "2024-04-26T19:06:18.277677Z",
     "iopub.status.idle": "2024-04-26T19:06:18.294606Z",
     "shell.execute_reply": "2024-04-26T19:06:18.293405Z"
    },
    "papermill": {
     "duration": 0.041395,
     "end_time": "2024-04-26T19:06:18.297114",
     "exception": false,
     "start_time": "2024-04-26T19:06:18.255719",
     "status": "completed"
    },
    "tags": []
   },
   "outputs": [
    {
     "data": {
      "text/html": [
       "<div>\n",
       "<style scoped>\n",
       "    .dataframe tbody tr th:only-of-type {\n",
       "        vertical-align: middle;\n",
       "    }\n",
       "\n",
       "    .dataframe tbody tr th {\n",
       "        vertical-align: top;\n",
       "    }\n",
       "\n",
       "    .dataframe thead th {\n",
       "        text-align: right;\n",
       "    }\n",
       "</style>\n",
       "<table border=\"1\" class=\"dataframe\">\n",
       "  <thead>\n",
       "    <tr style=\"text-align: right;\">\n",
       "      <th></th>\n",
       "      <th>id</th>\n",
       "      <th>neg</th>\n",
       "      <th>neu</th>\n",
       "      <th>pos</th>\n",
       "      <th>compound</th>\n",
       "      <th>name</th>\n",
       "      <th>location</th>\n",
       "      <th>Date</th>\n",
       "      <th>Rating</th>\n",
       "      <th>Review</th>\n",
       "      <th>Image_Links</th>\n",
       "    </tr>\n",
       "  </thead>\n",
       "  <tbody>\n",
       "    <tr>\n",
       "      <th>23</th>\n",
       "      <td>24</td>\n",
       "      <td>0.0</td>\n",
       "      <td>1.0</td>\n",
       "      <td>0.0</td>\n",
       "      <td>0.0</td>\n",
       "      <td>Jennifer</td>\n",
       "      <td>West Roxbury, MA</td>\n",
       "      <td>Reviewed April 30, 2023</td>\n",
       "      <td>1.0</td>\n",
       "      <td>I spend about $30/day, is it asking too much t...</td>\n",
       "      <td>['https://media.consumeraffairs.com/files/cach...</td>\n",
       "    </tr>\n",
       "  </tbody>\n",
       "</table>\n",
       "</div>"
      ],
      "text/plain": [
       "    id  neg  neu  pos  compound      name          location  \\\n",
       "23  24  0.0  1.0  0.0       0.0  Jennifer  West Roxbury, MA   \n",
       "\n",
       "                       Date  Rating  \\\n",
       "23  Reviewed April 30, 2023     1.0   \n",
       "\n",
       "                                               Review  \\\n",
       "23  I spend about $30/day, is it asking too much t...   \n",
       "\n",
       "                                          Image_Links  \n",
       "23  ['https://media.consumeraffairs.com/files/cach...  "
      ]
     },
     "execution_count": 27,
     "metadata": {},
     "output_type": "execute_result"
    }
   ],
   "source": [
    "MostNeu[:1]"
   ]
  },
  {
   "cell_type": "markdown",
   "id": "8547e4f5",
   "metadata": {
    "papermill": {
     "duration": 0.021113,
     "end_time": "2024-04-26T19:06:18.339971",
     "exception": false,
     "start_time": "2024-04-26T19:06:18.318858",
     "status": "completed"
    },
    "tags": []
   },
   "source": [
    "# Conclusion\n",
    "- It seems that the Valder technique failed to detect the negativity in this sentence, as evidenced by its rating of 0.\n",
    "- It does with many other instances\n",
    "\n",
    "So we need a new more accurate technique"
   ]
  },
  {
   "cell_type": "markdown",
   "id": "549e3347",
   "metadata": {
    "papermill": {
     "duration": 0.020432,
     "end_time": "2024-04-26T19:06:18.381260",
     "exception": false,
     "start_time": "2024-04-26T19:06:18.360828",
     "status": "completed"
    },
    "tags": []
   },
   "source": [
    "# Hugging Face Pipeline\n",
    "Hugging Face provides a versatile transformer known as *pipeline*, capable of performing various tasks. Among its functionalities is sentiment analysis, allowing for the assessment of emotional tone in text."
   ]
  },
  {
   "cell_type": "markdown",
   "id": "81f47d3c",
   "metadata": {
    "papermill": {
     "duration": 0.022043,
     "end_time": "2024-04-26T19:06:18.424511",
     "exception": false,
     "start_time": "2024-04-26T19:06:18.402468",
     "status": "completed"
    },
    "tags": []
   },
   "source": [
    "# Import the needed Libraries"
   ]
  },
  {
   "cell_type": "code",
   "execution_count": 28,
   "id": "11e3d91d",
   "metadata": {
    "execution": {
     "iopub.execute_input": "2024-04-26T19:06:18.468756Z",
     "iopub.status.busy": "2024-04-26T19:06:18.468336Z",
     "iopub.status.idle": "2024-04-26T19:06:41.108721Z",
     "shell.execute_reply": "2024-04-26T19:06:41.107648Z"
    },
    "papermill": {
     "duration": 22.666021,
     "end_time": "2024-04-26T19:06:41.111642",
     "exception": false,
     "start_time": "2024-04-26T19:06:18.445621",
     "status": "completed"
    },
    "tags": []
   },
   "outputs": [
    {
     "name": "stderr",
     "output_type": "stream",
     "text": [
      "2024-04-26 19:06:27.642198: E external/local_xla/xla/stream_executor/cuda/cuda_dnn.cc:9261] Unable to register cuDNN factory: Attempting to register factory for plugin cuDNN when one has already been registered\n",
      "2024-04-26 19:06:27.642414: E external/local_xla/xla/stream_executor/cuda/cuda_fft.cc:607] Unable to register cuFFT factory: Attempting to register factory for plugin cuFFT when one has already been registered\n",
      "2024-04-26 19:06:27.845126: E external/local_xla/xla/stream_executor/cuda/cuda_blas.cc:1515] Unable to register cuBLAS factory: Attempting to register factory for plugin cuBLAS when one has already been registered\n"
     ]
    }
   ],
   "source": [
    "from transformers import pipeline \n",
    "import warnings\n",
    "warnings.filterwarnings('ignore')"
   ]
  },
  {
   "cell_type": "markdown",
   "id": "aa6c529d",
   "metadata": {
    "papermill": {
     "duration": 0.021095,
     "end_time": "2024-04-26T19:06:41.160969",
     "exception": false,
     "start_time": "2024-04-26T19:06:41.139874",
     "status": "completed"
    },
    "tags": []
   },
   "source": [
    "# Prepare the Classifier"
   ]
  },
  {
   "cell_type": "code",
   "execution_count": 29,
   "id": "97eb94e6",
   "metadata": {
    "collapsed": true,
    "execution": {
     "iopub.execute_input": "2024-04-26T19:06:41.205059Z",
     "iopub.status.busy": "2024-04-26T19:06:41.204166Z",
     "iopub.status.idle": "2024-04-26T19:06:45.483174Z",
     "shell.execute_reply": "2024-04-26T19:06:45.482115Z"
    },
    "jupyter": {
     "outputs_hidden": true
    },
    "papermill": {
     "duration": 4.303956,
     "end_time": "2024-04-26T19:06:45.485988",
     "exception": false,
     "start_time": "2024-04-26T19:06:41.182032",
     "status": "completed"
    },
    "tags": []
   },
   "outputs": [
    {
     "name": "stderr",
     "output_type": "stream",
     "text": [
      "No model was supplied, defaulted to distilbert/distilbert-base-uncased-finetuned-sst-2-english and revision af0f99b (https://huggingface.co/distilbert/distilbert-base-uncased-finetuned-sst-2-english).\n",
      "Using a pipeline without specifying a model name and revision in production is not recommended.\n"
     ]
    },
    {
     "data": {
      "application/vnd.jupyter.widget-view+json": {
       "model_id": "2a885dddba0f4a838b43609591a13284",
       "version_major": 2,
       "version_minor": 0
      },
      "text/plain": [
       "config.json:   0%|          | 0.00/629 [00:00<?, ?B/s]"
      ]
     },
     "metadata": {},
     "output_type": "display_data"
    },
    {
     "data": {
      "application/vnd.jupyter.widget-view+json": {
       "model_id": "b2aa2714f4704def8994f5dcc776bec1",
       "version_major": 2,
       "version_minor": 0
      },
      "text/plain": [
       "model.safetensors:   0%|          | 0.00/268M [00:00<?, ?B/s]"
      ]
     },
     "metadata": {},
     "output_type": "display_data"
    },
    {
     "data": {
      "application/vnd.jupyter.widget-view+json": {
       "model_id": "3eec60dcf2824f50bd6c0e07628f2ef7",
       "version_major": 2,
       "version_minor": 0
      },
      "text/plain": [
       "tokenizer_config.json:   0%|          | 0.00/48.0 [00:00<?, ?B/s]"
      ]
     },
     "metadata": {},
     "output_type": "display_data"
    },
    {
     "data": {
      "application/vnd.jupyter.widget-view+json": {
       "model_id": "4a5051c342da452a9c2bbc9228010028",
       "version_major": 2,
       "version_minor": 0
      },
      "text/plain": [
       "vocab.txt:   0%|          | 0.00/232k [00:00<?, ?B/s]"
      ]
     },
     "metadata": {},
     "output_type": "display_data"
    }
   ],
   "source": [
    "HF = pipeline(task=\"sentiment-analysis\")"
   ]
  },
  {
   "cell_type": "code",
   "execution_count": 30,
   "id": "c39f0928",
   "metadata": {
    "execution": {
     "iopub.execute_input": "2024-04-26T19:06:45.533523Z",
     "iopub.status.busy": "2024-04-26T19:06:45.532683Z",
     "iopub.status.idle": "2024-04-26T19:06:45.665508Z",
     "shell.execute_reply": "2024-04-26T19:06:45.664328Z"
    },
    "papermill": {
     "duration": 0.159997,
     "end_time": "2024-04-26T19:06:45.668226",
     "exception": false,
     "start_time": "2024-04-26T19:06:45.508229",
     "status": "completed"
    },
    "tags": []
   },
   "outputs": [
    {
     "data": {
      "text/plain": [
       "[{'label': 'NEGATIVE', 'score': 0.9996427297592163}]"
      ]
     },
     "execution_count": 30,
     "metadata": {},
     "output_type": "execute_result"
    }
   ],
   "source": [
    "HF(\"I'm mad\")"
   ]
  },
  {
   "cell_type": "code",
   "execution_count": 31,
   "id": "44a7eb49",
   "metadata": {
    "execution": {
     "iopub.execute_input": "2024-04-26T19:06:45.714779Z",
     "iopub.status.busy": "2024-04-26T19:06:45.714290Z",
     "iopub.status.idle": "2024-04-26T19:06:45.755516Z",
     "shell.execute_reply": "2024-04-26T19:06:45.754434Z"
    },
    "papermill": {
     "duration": 0.06744,
     "end_time": "2024-04-26T19:06:45.758104",
     "exception": false,
     "start_time": "2024-04-26T19:06:45.690664",
     "status": "completed"
    },
    "tags": []
   },
   "outputs": [
    {
     "data": {
      "text/plain": [
       "[{'label': 'POSITIVE', 'score': 0.999592125415802}]"
      ]
     },
     "execution_count": 31,
     "metadata": {},
     "output_type": "execute_result"
    }
   ],
   "source": [
    "HF(\"WOW\")"
   ]
  },
  {
   "cell_type": "markdown",
   "id": "d5026db0",
   "metadata": {
    "papermill": {
     "duration": 0.021894,
     "end_time": "2024-04-26T19:06:45.802065",
     "exception": false,
     "start_time": "2024-04-26T19:06:45.780171",
     "status": "completed"
    },
    "tags": []
   },
   "source": [
    "# Apply to data"
   ]
  },
  {
   "cell_type": "code",
   "execution_count": 32,
   "id": "396529b8",
   "metadata": {
    "execution": {
     "iopub.execute_input": "2024-04-26T19:06:45.847718Z",
     "iopub.status.busy": "2024-04-26T19:06:45.847294Z",
     "iopub.status.idle": "2024-04-26T19:08:26.666987Z",
     "shell.execute_reply": "2024-04-26T19:08:26.665529Z"
    },
    "papermill": {
     "duration": 100.84554,
     "end_time": "2024-04-26T19:08:26.669548",
     "exception": false,
     "start_time": "2024-04-26T19:06:45.824008",
     "status": "completed"
    },
    "tags": []
   },
   "outputs": [
    {
     "data": {
      "application/vnd.jupyter.widget-view+json": {
       "model_id": "ba642fd3cace4da9a4d309aff41fac2a",
       "version_major": 2,
       "version_minor": 0
      },
      "text/plain": [
       "  0%|          | 0/813 [00:00<?, ?it/s]"
      ]
     },
     "metadata": {},
     "output_type": "display_data"
    }
   ],
   "source": [
    "res = {}\n",
    "for i, row in tqdm(df.iterrows(), total=len(df)):\n",
    "    Review = row['Review']\n",
    "    ID = row['id']\n",
    "    res[ID] = HF(Review)"
   ]
  },
  {
   "cell_type": "code",
   "execution_count": 33,
   "id": "d430f2f6",
   "metadata": {
    "execution": {
     "iopub.execute_input": "2024-04-26T19:08:26.716152Z",
     "iopub.status.busy": "2024-04-26T19:08:26.715693Z",
     "iopub.status.idle": "2024-04-26T19:08:26.739026Z",
     "shell.execute_reply": "2024-04-26T19:08:26.738026Z"
    },
    "papermill": {
     "duration": 0.049808,
     "end_time": "2024-04-26T19:08:26.741549",
     "exception": false,
     "start_time": "2024-04-26T19:08:26.691741",
     "status": "completed"
    },
    "tags": []
   },
   "outputs": [],
   "source": [
    "resD = [{'label': v[0]['label'], 'score': v[0]['score']} for k,v in res.items()]\n",
    "pipelineHF = pd.DataFrame(resD)\n",
    "pipelineHF = pipelineHF.reset_index().rename(columns={'index':'id'})\n",
    "pipelineHF = pipelineHF.merge(Vaders, how='left')\n",
    "pipelineHF = pipelineHF.drop(0)"
   ]
  },
  {
   "cell_type": "code",
   "execution_count": 34,
   "id": "2629778c",
   "metadata": {
    "execution": {
     "iopub.execute_input": "2024-04-26T19:08:26.787927Z",
     "iopub.status.busy": "2024-04-26T19:08:26.787493Z",
     "iopub.status.idle": "2024-04-26T19:08:26.809105Z",
     "shell.execute_reply": "2024-04-26T19:08:26.808085Z"
    },
    "papermill": {
     "duration": 0.04791,
     "end_time": "2024-04-26T19:08:26.811538",
     "exception": false,
     "start_time": "2024-04-26T19:08:26.763628",
     "status": "completed"
    },
    "tags": []
   },
   "outputs": [
    {
     "data": {
      "text/html": [
       "<div>\n",
       "<style scoped>\n",
       "    .dataframe tbody tr th:only-of-type {\n",
       "        vertical-align: middle;\n",
       "    }\n",
       "\n",
       "    .dataframe tbody tr th {\n",
       "        vertical-align: top;\n",
       "    }\n",
       "\n",
       "    .dataframe thead th {\n",
       "        text-align: right;\n",
       "    }\n",
       "</style>\n",
       "<table border=\"1\" class=\"dataframe\">\n",
       "  <thead>\n",
       "    <tr style=\"text-align: right;\">\n",
       "      <th></th>\n",
       "      <th>id</th>\n",
       "      <th>label</th>\n",
       "      <th>score</th>\n",
       "      <th>neg</th>\n",
       "      <th>neu</th>\n",
       "      <th>pos</th>\n",
       "      <th>compound</th>\n",
       "      <th>name</th>\n",
       "      <th>location</th>\n",
       "      <th>Date</th>\n",
       "      <th>Rating</th>\n",
       "      <th>Review</th>\n",
       "      <th>Image_Links</th>\n",
       "    </tr>\n",
       "  </thead>\n",
       "  <tbody>\n",
       "    <tr>\n",
       "      <th>1</th>\n",
       "      <td>1</td>\n",
       "      <td>POSITIVE</td>\n",
       "      <td>0.998526</td>\n",
       "      <td>0.000</td>\n",
       "      <td>0.797</td>\n",
       "      <td>0.203</td>\n",
       "      <td>0.8991</td>\n",
       "      <td>Helen</td>\n",
       "      <td>Wichita Falls, TX</td>\n",
       "      <td>Reviewed Sept. 13, 2023</td>\n",
       "      <td>5.0</td>\n",
       "      <td>Amber and LaDonna at the Starbucks on Southwes...</td>\n",
       "      <td>['No Images']</td>\n",
       "    </tr>\n",
       "    <tr>\n",
       "      <th>2</th>\n",
       "      <td>2</td>\n",
       "      <td>NEGATIVE</td>\n",
       "      <td>0.996533</td>\n",
       "      <td>0.099</td>\n",
       "      <td>0.755</td>\n",
       "      <td>0.145</td>\n",
       "      <td>0.7766</td>\n",
       "      <td>Courtney</td>\n",
       "      <td>Apopka, FL</td>\n",
       "      <td>Reviewed July 16, 2023</td>\n",
       "      <td>5.0</td>\n",
       "      <td>** at the Starbucks by the fire station on 436...</td>\n",
       "      <td>['No Images']</td>\n",
       "    </tr>\n",
       "    <tr>\n",
       "      <th>3</th>\n",
       "      <td>3</td>\n",
       "      <td>POSITIVE</td>\n",
       "      <td>0.663701</td>\n",
       "      <td>0.087</td>\n",
       "      <td>0.767</td>\n",
       "      <td>0.145</td>\n",
       "      <td>0.5242</td>\n",
       "      <td>Daynelle</td>\n",
       "      <td>Cranberry Twp, PA</td>\n",
       "      <td>Reviewed July 5, 2023</td>\n",
       "      <td>5.0</td>\n",
       "      <td>I just wanted to go out of my way to recognize...</td>\n",
       "      <td>['https://media.consumeraffairs.com/files/cach...</td>\n",
       "    </tr>\n",
       "    <tr>\n",
       "      <th>4</th>\n",
       "      <td>4</td>\n",
       "      <td>POSITIVE</td>\n",
       "      <td>0.999719</td>\n",
       "      <td>0.053</td>\n",
       "      <td>0.682</td>\n",
       "      <td>0.265</td>\n",
       "      <td>0.9698</td>\n",
       "      <td>Taylor</td>\n",
       "      <td>Seattle, WA</td>\n",
       "      <td>Reviewed May 26, 2023</td>\n",
       "      <td>5.0</td>\n",
       "      <td>Me and my friend were at Starbucks and my card...</td>\n",
       "      <td>['No Images']</td>\n",
       "    </tr>\n",
       "    <tr>\n",
       "      <th>5</th>\n",
       "      <td>5</td>\n",
       "      <td>NEGATIVE</td>\n",
       "      <td>0.999061</td>\n",
       "      <td>0.000</td>\n",
       "      <td>0.669</td>\n",
       "      <td>0.331</td>\n",
       "      <td>0.9793</td>\n",
       "      <td>Tenessa</td>\n",
       "      <td>Gresham, OR</td>\n",
       "      <td>Reviewed Jan. 22, 2023</td>\n",
       "      <td>5.0</td>\n",
       "      <td>I’m on this kick of drinking 5 cups of warm wa...</td>\n",
       "      <td>['https://media.consumeraffairs.com/files/cach...</td>\n",
       "    </tr>\n",
       "  </tbody>\n",
       "</table>\n",
       "</div>"
      ],
      "text/plain": [
       "   id     label     score    neg    neu    pos  compound      name  \\\n",
       "1   1  POSITIVE  0.998526  0.000  0.797  0.203    0.8991     Helen   \n",
       "2   2  NEGATIVE  0.996533  0.099  0.755  0.145    0.7766  Courtney   \n",
       "3   3  POSITIVE  0.663701  0.087  0.767  0.145    0.5242  Daynelle   \n",
       "4   4  POSITIVE  0.999719  0.053  0.682  0.265    0.9698    Taylor   \n",
       "5   5  NEGATIVE  0.999061  0.000  0.669  0.331    0.9793   Tenessa   \n",
       "\n",
       "            location                     Date  Rating  \\\n",
       "1  Wichita Falls, TX  Reviewed Sept. 13, 2023     5.0   \n",
       "2         Apopka, FL   Reviewed July 16, 2023     5.0   \n",
       "3  Cranberry Twp, PA    Reviewed July 5, 2023     5.0   \n",
       "4        Seattle, WA    Reviewed May 26, 2023     5.0   \n",
       "5        Gresham, OR   Reviewed Jan. 22, 2023     5.0   \n",
       "\n",
       "                                              Review  \\\n",
       "1  Amber and LaDonna at the Starbucks on Southwes...   \n",
       "2  ** at the Starbucks by the fire station on 436...   \n",
       "3  I just wanted to go out of my way to recognize...   \n",
       "4  Me and my friend were at Starbucks and my card...   \n",
       "5  I’m on this kick of drinking 5 cups of warm wa...   \n",
       "\n",
       "                                         Image_Links  \n",
       "1                                      ['No Images']  \n",
       "2                                      ['No Images']  \n",
       "3  ['https://media.consumeraffairs.com/files/cach...  \n",
       "4                                      ['No Images']  \n",
       "5  ['https://media.consumeraffairs.com/files/cach...  "
      ]
     },
     "execution_count": 34,
     "metadata": {},
     "output_type": "execute_result"
    }
   ],
   "source": [
    "pipelineHF.head()"
   ]
  },
  {
   "cell_type": "markdown",
   "id": "74296e9c",
   "metadata": {
    "papermill": {
     "duration": 0.022771,
     "end_time": "2024-04-26T19:08:26.856808",
     "exception": false,
     "start_time": "2024-04-26T19:08:26.834037",
     "status": "completed"
    },
    "tags": []
   },
   "source": [
    "# Comparison\n",
    "Here we will compare between the value of postive, negative and neutral of vader to the labels of pipeline"
   ]
  },
  {
   "cell_type": "code",
   "execution_count": 35,
   "id": "b2df8a9f",
   "metadata": {
    "execution": {
     "iopub.execute_input": "2024-04-26T19:08:26.903294Z",
     "iopub.status.busy": "2024-04-26T19:08:26.902869Z",
     "iopub.status.idle": "2024-04-26T19:08:27.765345Z",
     "shell.execute_reply": "2024-04-26T19:08:27.764104Z"
    },
    "papermill": {
     "duration": 0.888887,
     "end_time": "2024-04-26T19:08:27.768042",
     "exception": false,
     "start_time": "2024-04-26T19:08:26.879155",
     "status": "completed"
    },
    "tags": []
   },
   "outputs": [
    {
     "data": {
      "image/png": "[encoded data removed]",
      "text/plain": [
       "<Figure size 1500x500 with 3 Axes>"
      ]
     },
     "metadata": {},
     "output_type": "display_data"
    }
   ],
   "source": [
    "fig, axs = plt.subplots(1,3, figsize=(15,5))\n",
    "sns.barplot(x = 'label' ,y = 'neg' , data = pipelineHF , ax = axs[0] , ci = 0).set_title('Compare between neg Vader vs Pipeline')\n",
    "sns.barplot(x = 'label' ,y = 'pos' , data = pipelineHF , ax = axs[1] , ci = 0).set_title('Compare between pos Vader vs Pipeline')\n",
    "sns.barplot(x = 'label' ,y = 'neu' , data = pipelineHF , ax = axs[2] , ci = 0).set_title('Compare between nue Vader vs Pipeline')\n",
    "plt.tight_layout()\n",
    "plt.show()"
   ]
  },
  {
   "cell_type": "code",
   "execution_count": 36,
   "id": "8cf150bc",
   "metadata": {
    "execution": {
     "iopub.execute_input": "2024-04-26T19:08:27.816606Z",
     "iopub.status.busy": "2024-04-26T19:08:27.816172Z",
     "iopub.status.idle": "2024-04-26T19:08:28.490418Z",
     "shell.execute_reply": "2024-04-26T19:08:28.489204Z"
    },
    "papermill": {
     "duration": 0.701788,
     "end_time": "2024-04-26T19:08:28.493126",
     "exception": false,
     "start_time": "2024-04-26T19:08:27.791338",
     "status": "completed"
    },
    "tags": []
   },
   "outputs": [
    {
     "data": {
      "text/plain": [
       "Text(0.5, 0.98, 'Distribution of pos and neg against the labels')"
      ]
     },
     "execution_count": 36,
     "metadata": {},
     "output_type": "execute_result"
    },
    {
     "data": {
      "image/png": "[encoded data removed]",
      "text/plain": [
       "<Figure size 619x500 with 1 Axes>"
      ]
     },
     "metadata": {},
     "output_type": "display_data"
    }
   ],
   "source": [
    "sns.relplot(x='pos', y='neg', data=pipelineHF, hue = 'label', kind='scatter').fig.suptitle(\"Distribution of pos and neg against the labels\")"
   ]
  },
  {
   "cell_type": "markdown",
   "id": "61247244",
   "metadata": {
    "papermill": {
     "duration": 0.024242,
     "end_time": "2024-04-26T19:08:28.542231",
     "exception": false,
     "start_time": "2024-04-26T19:08:28.517989",
     "status": "completed"
    },
    "tags": []
   },
   "source": [
    "# Get the most of everything"
   ]
  },
  {
   "cell_type": "code",
   "execution_count": 37,
   "id": "8e670db8",
   "metadata": {
    "execution": {
     "iopub.execute_input": "2024-04-26T19:08:28.593544Z",
     "iopub.status.busy": "2024-04-26T19:08:28.593128Z",
     "iopub.status.idle": "2024-04-26T19:08:28.604064Z",
     "shell.execute_reply": "2024-04-26T19:08:28.602880Z"
    },
    "papermill": {
     "duration": 0.039389,
     "end_time": "2024-04-26T19:08:28.606411",
     "exception": false,
     "start_time": "2024-04-26T19:08:28.567022",
     "status": "completed"
    },
    "tags": []
   },
   "outputs": [
    {
     "data": {
      "text/plain": [
       "'Great coffee selections, the food could use some improvement based on what I have tried. I believe that is premade and stored in a refrigerator and then taken out and warmed up later.'"
      ]
     },
     "execution_count": 37,
     "metadata": {},
     "output_type": "execute_result"
    }
   ],
   "source": [
    "positive_only = pipelineHF.loc[pipelineHF['label'] == 'POSITIVE']\n",
    "Max_Pos_Value = max(positive_only['score'])\n",
    "positive_only.loc[positive_only['score'] == Max_Pos_Value].Review.iloc[0]"
   ]
  },
  {
   "cell_type": "code",
   "execution_count": 38,
   "id": "3aac9da2",
   "metadata": {
    "execution": {
     "iopub.execute_input": "2024-04-26T19:08:28.658022Z",
     "iopub.status.busy": "2024-04-26T19:08:28.657588Z",
     "iopub.status.idle": "2024-04-26T19:08:28.667018Z",
     "shell.execute_reply": "2024-04-26T19:08:28.665746Z"
    },
    "papermill": {
     "duration": 0.038555,
     "end_time": "2024-04-26T19:08:28.669709",
     "exception": false,
     "start_time": "2024-04-26T19:08:28.631154",
     "status": "completed"
    },
    "tags": []
   },
   "outputs": [
    {
     "data": {
      "text/plain": [
       "'Best crew ever at Wade Hampton Greer South Carolina. Awesome group of people... Friendly, clean and best coffee anywhere.'"
      ]
     },
     "execution_count": 38,
     "metadata": {},
     "output_type": "execute_result"
    }
   ],
   "source": [
    "Max_Pos_Value = max(pipelineHF['pos'])\n",
    "pipelineHF.loc[pipelineHF['pos'] == Max_Pos_Value].Review.iloc[0]"
   ]
  },
  {
   "cell_type": "code",
   "execution_count": 39,
   "id": "103c2c09",
   "metadata": {
    "execution": {
     "iopub.execute_input": "2024-04-26T19:08:28.722994Z",
     "iopub.status.busy": "2024-04-26T19:08:28.722554Z",
     "iopub.status.idle": "2024-04-26T19:08:28.734471Z",
     "shell.execute_reply": "2024-04-26T19:08:28.733370Z"
    },
    "papermill": {
     "duration": 0.041511,
     "end_time": "2024-04-26T19:08:28.736822",
     "exception": false,
     "start_time": "2024-04-26T19:08:28.695311",
     "status": "completed"
    },
    "tags": []
   },
   "outputs": [
    {
     "data": {
      "text/plain": [
       "'This Tuesday I had the most horrible experience with renting a car at the Orlando airport through Orbitz and Alamo. When I stopped at the Starbucks to get something to drink and rethink what I was going to do in my situation I was on the phone with the Orbitz manager who was completely useless and the cashier at the Starbucks in the airport overheard the conversation and decided to be helpful, thoughtful and she saved my faith in humanity!! I was on the phone arguing with the manager at Orbitz and ordered my drink, I went to put my credit card in the machine and she said, \"You’re all good.\" I was already upset with everybody else I had ran into so I almost bit her head off thinking she was incompetent for not charging my card. '"
      ]
     },
     "execution_count": 39,
     "metadata": {},
     "output_type": "execute_result"
    }
   ],
   "source": [
    "negative_only = pipelineHF.loc[pipelineHF['label'] == 'NEGATIVE']\n",
    "Max_Neg_Value = max(negative_only['score'])\n",
    "negative_only.loc[negative_only['score'] == Max_Neg_Value].Review.iloc[0]"
   ]
  },
  {
   "cell_type": "code",
   "execution_count": 40,
   "id": "1c033c73",
   "metadata": {
    "execution": {
     "iopub.execute_input": "2024-04-26T19:08:28.790471Z",
     "iopub.status.busy": "2024-04-26T19:08:28.789452Z",
     "iopub.status.idle": "2024-04-26T19:08:28.798976Z",
     "shell.execute_reply": "2024-04-26T19:08:28.797891Z"
    },
    "papermill": {
     "duration": 0.03919,
     "end_time": "2024-04-26T19:08:28.801364",
     "exception": false,
     "start_time": "2024-04-26T19:08:28.762174",
     "status": "completed"
    },
    "tags": []
   },
   "outputs": [
    {
     "data": {
      "text/plain": [
       "'Starbucks customer service is horrible! Worst experience I ever had. No replies, help or understanding. Very cheap and rude! I cannot believe this is a big company. I do like their coffee. Too bad they have such a bad management.'"
      ]
     },
     "execution_count": 40,
     "metadata": {},
     "output_type": "execute_result"
    }
   ],
   "source": [
    "Max_Neg_Value = max(pipelineHF['neg'])\n",
    "pipelineHF.loc[pipelineHF['neg'] == Max_Neg_Value].Review.iloc[0]"
   ]
  },
  {
   "cell_type": "markdown",
   "id": "f20ebf42",
   "metadata": {
    "papermill": {
     "duration": 0.025123,
     "end_time": "2024-04-26T19:08:28.852140",
     "exception": false,
     "start_time": "2024-04-26T19:08:28.827017",
     "status": "completed"
    },
    "tags": []
   },
   "source": [
    "# Conclusion\n",
    "In this notebook, we conducted a comparison between the Vader technique and a pipeline from Hugging Face. Our analysis revealed that the pipeline consistently outperformed Vader across multiple sentences, indicating its superior performance in sentiment analysis. This suggests that the pipeline offers a more robust and reliable approach, thereby enhancing the overall strength of sentiment analysis models."
   ]
  },
  {
   "cell_type": "markdown",
   "id": "b9ded3f2",
   "metadata": {
    "papermill": {
     "duration": 0.025163,
     "end_time": "2024-04-26T19:08:28.903158",
     "exception": false,
     "start_time": "2024-04-26T19:08:28.877995",
     "status": "completed"
    },
    "tags": []
   },
   "source": [
    "# References\n",
    "1. https://www.kaggle.com/code/robikscube/sentiment-analysis-python-youtube-tutorial\n",
    "2. https://medium.com/analytics-vidhya/nlp-getting-started-with-sentiment-analysis-126fcd61cc4a\n",
    "3. https://huggingface.co/docs/transformers/v4.40.1/en/task_summary#text-classification"
   ]
  }
 ],
 "metadata": {
  "kaggle": {
   "accelerator": "none",
   "dataSources": [
    {
     "datasetId": 3741616,
     "sourceId": 6476914,
     "sourceType": "datasetVersion"
    }
   ],
   "dockerImageVersionId": 30698,
   "isGpuEnabled": false,
   "isInternetEnabled": true,
   "language": "python",
   "sourceType": "notebook"
  },
  "kernelspec": {
   "display_name": "Python 3",
   "language": "python",
   "name": "python3"
  },
  "language_info": {
   "codemirror_mode": {
    "name": "ipython",
    "version": 3
   },
   "file_extension": ".py",
   "mimetype": "text/x-python",
   "name": "python",
   "nbconvert_exporter": "python",
   "pygments_lexer": "ipython3",
   "version": "3.10.13"
  },
  "papermill": {
   "default_parameters": {},
   "duration": 146.335717,
   "end_time": "2024-04-26T19:08:32.343325",
   "environment_variables": {},
   "exception": null,
   "input_path": "__notebook__.ipynb",
   "output_path": "__notebook__.ipynb",
   "parameters": {},
   "start_time": "2024-04-26T19:06:06.007608",
   "version": "2.5.0"
  },
  "widgets": {
   "application/vnd.jupyter.widget-state+json": {
    "state": {
     "03a65bb9a92346788f7e9c5f9902d1ed": {
      "model_module": "@jupyter-widgets/controls",
      "model_module_version": "1.5.0",
      "model_name": "FloatProgressModel",
      "state": {
       "_dom_classes": [],
       "_model_module": "@jupyter-widgets/controls",
       "_model_module_version": "1.5.0",
       "_model_name": "FloatProgressModel",
       "_view_count": null,
       "_view_module": "@jupyter-widgets/controls",
       "_view_module_version": "1.5.0",
       "_view_name": "ProgressView",
       "bar_style": "success",
       "description": "",
       "description_tooltip": null,
       "layout": "IPY_MODEL_167be583d0ce485ea577ea9cfcc4db3c",
       "max": 629.0,
       "min": 0.0,
       "orientation": "horizontal",
       "style": "IPY_MODEL_58a50f8ce600410496cbae264cbcb2ee",
       "value": 629.0
      }
     },
     "03eba65747cb46ed9189186acf20b557": {
      "model_module": "@jupyter-widgets/controls",
      "model_module_version": "1.5.0",
      "model_name": "HTMLModel",
      "state": {
       "_dom_classes": [],
       "_model_module": "@jupyter-widgets/controls",
       "_model_module_version": "1.5.0",
       "_model_name": "HTMLModel",
       "_view_count": null,
       "_view_module": "@jupyter-widgets/controls",
       "_view_module_version": "1.5.0",
       "_view_name": "HTMLView",
       "description": "",
       "description_tooltip": null,
       "layout": "IPY_MODEL_1dcbe263b1c54a87ba3cdea69e961b96",
       "placeholder": "​",
       "style": "IPY_MODEL_1fb24f0965ec4195af0194e9f45cb425",
       "value": " 232k/232k [00:00&lt;00:00, 4.80MB/s]"
      }
     },
     "090505daadfa4822a88cd28c21a68312": {
      "model_module": "@jupyter-widgets/controls",
      "model_module_version": "1.5.0",
      "model_name": "DescriptionStyleModel",
      "state": {
       "_model_module": "@jupyter-widgets/controls",
       "_model_module_version": "1.5.0",
       "_model_name": "DescriptionStyleModel",
       "_view_count": null,
       "_view_module": "@jupyter-widgets/base",
       "_view_module_version": "1.2.0",
       "_view_name": "StyleView",
       "description_width": ""
      }
     },
     "0c01f5e39dd6412f85e49b97c87590d4": {
      "model_module": "@jupyter-widgets/base",
      "model_module_version": "1.2.0",
      "model_name": "LayoutModel",
      "state": {
       "_model_module": "@jupyter-widgets/base",
       "_model_module_version": "1.2.0",
       "_model_name": "LayoutModel",
       "_view_count": null,
       "_view_module": "@jupyter-widgets/base",
       "_view_module_version": "1.2.0",
       "_view_name": "LayoutView",
       "align_content": null,
       "align_items": null,
       "align_self": null,
       "border": null,
       "bottom": null,
       "display": null,
       "flex": null,
       "flex_flow": null,
       "grid_area": null,
       "grid_auto_columns": null,
       "grid_auto_flow": null,
       "grid_auto_rows": null,
       "grid_column": null,
       "grid_gap": null,
       "grid_row": null,
       "grid_template_areas": null,
       "grid_template_columns": null,
       "grid_template_rows": null,
       "height": null,
       "justify_content": null,
       "justify_items": null,
       "left": null,
       "margin": null,
       "max_height": null,
       "max_width": null,
       "min_height": null,
       "min_width": null,
       "object_fit": null,
       "object_position": null,
       "order": null,
       "overflow": null,
       "overflow_x": null,
       "overflow_y": null,
       "padding": null,
       "right": null,
       "top": null,
       "visibility": null,
       "width": null
      }
     },
     "16580e8b339343ec8462a7f74c2d4e32": {
      "model_module": "@jupyter-widgets/controls",
      "model_module_version": "1.5.0",
      "model_name": "FloatProgressModel",
      "state": {
       "_dom_classes": [],
       "_model_module": "@jupyter-widgets/controls",
       "_model_module_version": "1.5.0",
       "_model_name": "FloatProgressModel",
       "_view_count": null,
       "_view_module": "@jupyter-widgets/controls",
       "_view_module_version": "1.5.0",
       "_view_name": "ProgressView",
       "bar_style": "success",
       "description": "",
       "description_tooltip": null,
       "layout": "IPY_MODEL_c322bf524c574cf9895ff47db908a826",
       "max": 813.0,
       "min": 0.0,
       "orientation": "horizontal",
       "style": "IPY_MODEL_ccdb558eb5014603886c3da4ad30d7c1",
       "value": 813.0
      }
     },
     "167be583d0ce485ea577ea9cfcc4db3c": {
      "model_module": "@jupyter-widgets/base",
      "model_module_version": "1.2.0",
      "model_name": "LayoutModel",
      "state": {
       "_model_module": "@jupyter-widgets/base",
       "_model_module_version": "1.2.0",
       "_model_name": "LayoutModel",
       "_view_count": null,
       "_view_module": "@jupyter-widgets/base",
       "_view_module_version": "1.2.0",
       "_view_name": "LayoutView",
       "align_content": null,
       "align_items": null,
       "align_self": null,
       "border": null,
       "bottom": null,
       "display": null,
       "flex": null,
       "flex_flow": null,
       "grid_area": null,
       "grid_auto_columns": null,
       "grid_auto_flow": null,
       "grid_auto_rows": null,
       "grid_column": null,
       "grid_gap": null,
       "grid_row": null,
       "grid_template_areas": null,
       "grid_template_columns": null,
       "grid_template_rows": null,
       "height": null,
       "justify_content": null,
       "justify_items": null,
       "left": null,
       "margin": null,
       "max_height": null,
       "max_width": null,
       "min_height": null,
       "min_width": null,
       "object_fit": null,
       "object_position": null,
       "order": null,
       "overflow": null,
       "overflow_x": null,
       "overflow_y": null,
       "padding": null,
       "right": null,
       "top": null,
       "visibility": null,
       "width": null
      }
     },
     "174627fa107f4a91b521d219e2648f71": {
      "model_module": "@jupyter-widgets/controls",
      "model_module_version": "1.5.0",
      "model_name": "DescriptionStyleModel",
      "state": {
       "_model_module": "@jupyter-widgets/controls",
       "_model_module_version": "1.5.0",
       "_model_name": "DescriptionStyleModel",
       "_view_count": null,
       "_view_module": "@jupyter-widgets/base",
       "_view_module_version": "1.2.0",
       "_view_name": "StyleView",
       "description_width": ""
      }
     },
     "17cc037ab3da4928800bd703980e6df3": {
      "model_module": "@jupyter-widgets/base",
      "model_module_version": "1.2.0",
      "model_name": "LayoutModel",
      "state": {
       "_model_module": "@jupyter-widgets/base",
       "_model_module_version": "1.2.0",
       "_model_name": "LayoutModel",
       "_view_count": null,
       "_view_module": "@jupyter-widgets/base",
       "_view_module_version": "1.2.0",
       "_view_name": "LayoutView",
       "align_content": null,
       "align_items": null,
       "align_self": null,
       "border": null,
       "bottom": null,
       "display": null,
       "flex": null,
       "flex_flow": null,
       "grid_area": null,
       "grid_auto_columns": null,
       "grid_auto_flow": null,
       "grid_auto_rows": null,
       "grid_column": null,
       "grid_gap": null,
       "grid_row": null,
       "grid_template_areas": null,
       "grid_template_columns": null,
       "grid_template_rows": null,
       "height": null,
       "justify_content": null,
       "justify_items": null,
       "left": null,
       "margin": null,
       "max_height": null,
       "max_width": null,
       "min_height": null,
       "min_width": null,
       "object_fit": null,
       "object_position": null,
       "order": null,
       "overflow": null,
       "overflow_x": null,
       "overflow_y": null,
       "padding": null,
       "right": null,
       "top": null,
       "visibility": null,
       "width": null
      }
     },
     "183d33da0f4340959953578539771db8": {
      "model_module": "@jupyter-widgets/base",
      "model_module_version": "1.2.0",
      "model_name": "LayoutModel",
      "state": {
       "_model_module": "@jupyter-widgets/base",
       "_model_module_version": "1.2.0",
       "_model_name": "LayoutModel",
       "_view_count": null,
       "_view_module": "@jupyter-widgets/base",
       "_view_module_version": "1.2.0",
       "_view_name": "LayoutView",
       "align_content": null,
       "align_items": null,
       "align_self": null,
       "border": null,
       "bottom": null,
       "display": null,
       "flex": null,
       "flex_flow": null,
       "grid_area": null,
       "grid_auto_columns": null,
       "grid_auto_flow": null,
       "grid_auto_rows": null,
       "grid_column": null,
       "grid_gap": null,
       "grid_row": null,
       "grid_template_areas": null,
       "grid_template_columns": null,
       "grid_template_rows": null,
       "height": null,
       "justify_content": null,
       "justify_items": null,
       "left": null,
       "margin": null,
       "max_height": null,
       "max_width": null,
       "min_height": null,
       "min_width": null,
       "object_fit": null,
       "object_position": null,
       "order": null,
       "overflow": null,
       "overflow_x": null,
       "overflow_y": null,
       "padding": null,
       "right": null,
       "top": null,
       "visibility": null,
       "width": null
      }
     },
     "1dcbe263b1c54a87ba3cdea69e961b96": {
      "model_module": "@jupyter-widgets/base",
      "model_module_version": "1.2.0",
      "model_name": "LayoutModel",
      "state": {
       "_model_module": "@jupyter-widgets/base",
       "_model_module_version": "1.2.0",
       "_model_name": "LayoutModel",
       "_view_count": null,
       "_view_module": "@jupyter-widgets/base",
       "_view_module_version": "1.2.0",
       "_view_name": "LayoutView",
       "align_content": null,
       "align_items": null,
       "align_self": null,
       "border": null,
       "bottom": null,
       "display": null,
       "flex": null,
       "flex_flow": null,
       "grid_area": null,
       "grid_auto_columns": null,
       "grid_auto_flow": null,
       "grid_auto_rows": null,
       "grid_column": null,
       "grid_gap": null,
       "grid_row": null,
       "grid_template_areas": null,
       "grid_template_columns": null,
       "grid_template_rows": null,
       "height": null,
       "justify_content": null,
       "justify_items": null,
       "left": null,
       "margin": null,
       "max_height": null,
       "max_width": null,
       "min_height": null,
       "min_width": null,
       "object_fit": null,
       "object_position": null,
       "order": null,
       "overflow": null,
       "overflow_x": null,
       "overflow_y": null,
       "padding": null,
       "right": null,
       "top": null,
       "visibility": null,
       "width": null
      }
     },
     "1fb24f0965ec4195af0194e9f45cb425": {
      "model_module": "@jupyter-widgets/controls",
      "model_module_version": "1.5.0",
      "model_name": "DescriptionStyleModel",
      "state": {
       "_model_module": "@jupyter-widgets/controls",
       "_model_module_version": "1.5.0",
       "_model_name": "DescriptionStyleModel",
       "_view_count": null,
       "_view_module": "@jupyter-widgets/base",
       "_view_module_version": "1.2.0",
       "_view_name": "StyleView",
       "description_width": ""
      }
     },
     "268a9288011f471bbdd16940c31a495f": {
      "model_module": "@jupyter-widgets/controls",
      "model_module_version": "1.5.0",
      "model_name": "DescriptionStyleModel",
      "state": {
       "_model_module": "@jupyter-widgets/controls",
       "_model_module_version": "1.5.0",
       "_model_name": "DescriptionStyleModel",
       "_view_count": null,
       "_view_module": "@jupyter-widgets/base",
       "_view_module_version": "1.2.0",
       "_view_name": "StyleView",
       "description_width": ""
      }
     },
     "2a885dddba0f4a838b43609591a13284": {
      "model_module": "@jupyter-widgets/controls",
      "model_module_version": "1.5.0",
      "model_name": "HBoxModel",
      "state": {
       "_dom_classes": [],
       "_model_module": "@jupyter-widgets/controls",
       "_model_module_version": "1.5.0",
       "_model_name": "HBoxModel",
       "_view_count": null,
       "_view_module": "@jupyter-widgets/controls",
       "_view_module_version": "1.5.0",
       "_view_name": "HBoxView",
       "box_style": "",
       "children": [
        "IPY_MODEL_f13901f9a75a44bab724adf0c1ed4135",
        "IPY_MODEL_03a65bb9a92346788f7e9c5f9902d1ed",
        "IPY_MODEL_69663b4439184fa59fffc6da4fc7920e"
       ],
       "layout": "IPY_MODEL_8632491cf6614749a2edd58a169d01de"
      }
     },
     "2cecc431cdaa4176b21589f3fa9589ca": {
      "model_module": "@jupyter-widgets/controls",
      "model_module_version": "1.5.0",
      "model_name": "DescriptionStyleModel",
      "state": {
       "_model_module": "@jupyter-widgets/controls",
       "_model_module_version": "1.5.0",
       "_model_name": "DescriptionStyleModel",
       "_view_count": null,
       "_view_module": "@jupyter-widgets/base",
       "_view_module_version": "1.2.0",
       "_view_name": "StyleView",
       "description_width": ""
      }
     },
     "31ee323af2b243c4b74dada61fc27028": {
      "model_module": "@jupyter-widgets/controls",
      "model_module_version": "1.5.0",
      "model_name": "HTMLModel",
      "state": {
       "_dom_classes": [],
       "_model_module": "@jupyter-widgets/controls",
       "_model_module_version": "1.5.0",
       "_model_name": "HTMLModel",
       "_view_count": null,
       "_view_module": "@jupyter-widgets/controls",
       "_view_module_version": "1.5.0",
       "_view_name": "HTMLView",
       "description": "",
       "description_tooltip": null,
       "layout": "IPY_MODEL_913a0b1b83f6437dafe18f1a2bc728e8",
       "placeholder": "​",
       "style": "IPY_MODEL_802b42a2f77b409e872facf441f4722d",
       "value": " 813/813 [01:40&lt;00:00, 10.57it/s]"
      }
     },
     "33ac173d5fc54437985d0114415cfe1c": {
      "model_module": "@jupyter-widgets/controls",
      "model_module_version": "1.5.0",
      "model_name": "FloatProgressModel",
      "state": {
       "_dom_classes": [],
       "_model_module": "@jupyter-widgets/controls",
       "_model_module_version": "1.5.0",
       "_model_name": "FloatProgressModel",
       "_view_count": null,
       "_view_module": "@jupyter-widgets/controls",
       "_view_module_version": "1.5.0",
       "_view_name": "ProgressView",
       "bar_style": "success",
       "description": "",
       "description_tooltip": null,
       "layout": "IPY_MODEL_fa4307d62985489c9ebd535ffd7f6bb8",
       "max": 813.0,
       "min": 0.0,
       "orientation": "horizontal",
       "style": "IPY_MODEL_9dfbf4bd83664a598b811fd1f6ea01ca",
       "value": 813.0
      }
     },
     "34477c061aea4951805716d8940f7af7": {
      "model_module": "@jupyter-widgets/base",
      "model_module_version": "1.2.0",
      "model_name": "LayoutModel",
      "state": {
       "_model_module": "@jupyter-widgets/base",
       "_model_module_version": "1.2.0",
       "_model_name": "LayoutModel",
       "_view_count": null,
       "_view_module": "@jupyter-widgets/base",
       "_view_module_version": "1.2.0",
       "_view_name": "LayoutView",
       "align_content": null,
       "align_items": null,
       "align_self": null,
       "border": null,
       "bottom": null,
       "display": null,
       "flex": null,
       "flex_flow": null,
       "grid_area": null,
       "grid_auto_columns": null,
       "grid_auto_flow": null,
       "grid_auto_rows": null,
       "grid_column": null,
       "grid_gap": null,
       "grid_row": null,
       "grid_template_areas": null,
       "grid_template_columns": null,
       "grid_template_rows": null,
       "height": null,
       "justify_content": null,
       "justify_items": null,
       "left": null,
       "margin": null,
       "max_height": null,
       "max_width": null,
       "min_height": null,
       "min_width": null,
       "object_fit": null,
       "object_position": null,
       "order": null,
       "overflow": null,
       "overflow_x": null,
       "overflow_y": null,
       "padding": null,
       "right": null,
       "top": null,
       "visibility": null,
       "width": null
      }
     },
     "3a16a804c93c483886f8961cb0cb3c29": {
      "model_module": "@jupyter-widgets/base",
      "model_module_version": "1.2.0",
      "model_name": "LayoutModel",
      "state": {
       "_model_module": "@jupyter-widgets/base",
       "_model_module_version": "1.2.0",
       "_model_name": "LayoutModel",
       "_view_count": null,
       "_view_module": "@jupyter-widgets/base",
       "_view_module_version": "1.2.0",
       "_view_name": "LayoutView",
       "align_content": null,
       "align_items": null,
       "align_self": null,
       "border": null,
       "bottom": null,
       "display": null,
       "flex": null,
       "flex_flow": null,
       "grid_area": null,
       "grid_auto_columns": null,
       "grid_auto_flow": null,
       "grid_auto_rows": null,
       "grid_column": null,
       "grid_gap": null,
       "grid_row": null,
       "grid_template_areas": null,
       "grid_template_columns": null,
       "grid_template_rows": null,
       "height": null,
       "justify_content": null,
       "justify_items": null,
       "left": null,
       "margin": null,
       "max_height": null,
       "max_width": null,
       "min_height": null,
       "min_width": null,
       "object_fit": null,
       "object_position": null,
       "order": null,
       "overflow": null,
       "overflow_x": null,
       "overflow_y": null,
       "padding": null,
       "right": null,
       "top": null,
       "visibility": null,
       "width": null
      }
     },
     "3a3a29e618434336b02a477aa58a09cb": {
      "model_module": "@jupyter-widgets/base",
      "model_module_version": "1.2.0",
      "model_name": "LayoutModel",
      "state": {
       "_model_module": "@jupyter-widgets/base",
       "_model_module_version": "1.2.0",
       "_model_name": "LayoutModel",
       "_view_count": null,
       "_view_module": "@jupyter-widgets/base",
       "_view_module_version": "1.2.0",
       "_view_name": "LayoutView",
       "align_content": null,
       "align_items": null,
       "align_self": null,
       "border": null,
       "bottom": null,
       "display": null,
       "flex": null,
       "flex_flow": null,
       "grid_area": null,
       "grid_auto_columns": null,
       "grid_auto_flow": null,
       "grid_auto_rows": null,
       "grid_column": null,
       "grid_gap": null,
       "grid_row": null,
       "grid_template_areas": null,
       "grid_template_columns": null,
       "grid_template_rows": null,
       "height": null,
       "justify_content": null,
       "justify_items": null,
       "left": null,
       "margin": null,
       "max_height": null,
       "max_width": null,
       "min_height": null,
       "min_width": null,
       "object_fit": null,
       "object_position": null,
       "order": null,
       "overflow": null,
       "overflow_x": null,
       "overflow_y": null,
       "padding": null,
       "right": null,
       "top": null,
       "visibility": null,
       "width": null
      }
     },
     "3c9ddb9a47044280927d3bbe191fefc1": {
      "model_module": "@jupyter-widgets/controls",
      "model_module_version": "1.5.0",
      "model_name": "FloatProgressModel",
      "state": {
       "_dom_classes": [],
       "_model_module": "@jupyter-widgets/controls",
       "_model_module_version": "1.5.0",
       "_model_name": "FloatProgressModel",
       "_view_count": null,
       "_view_module": "@jupyter-widgets/controls",
       "_view_module_version": "1.5.0",
       "_view_name": "ProgressView",
       "bar_style": "success",
       "description": "",
       "description_tooltip": null,
       "layout": "IPY_MODEL_c6984816c2384ff0b05501fa4e0987d6",
       "max": 231508.0,
       "min": 0.0,
       "orientation": "horizontal",
       "style": "IPY_MODEL_60dc39d31c154275bff331f9e6c44960",
       "value": 231508.0
      }
     },
     "3eec60dcf2824f50bd6c0e07628f2ef7": {
      "model_module": "@jupyter-widgets/controls",
      "model_module_version": "1.5.0",
      "model_name": "HBoxModel",
      "state": {
       "_dom_classes": [],
       "_model_module": "@jupyter-widgets/controls",
       "_model_module_version": "1.5.0",
       "_model_name": "HBoxModel",
       "_view_count": null,
       "_view_module": "@jupyter-widgets/controls",
       "_view_module_version": "1.5.0",
       "_view_name": "HBoxView",
       "box_style": "",
       "children": [
        "IPY_MODEL_f640b1e9660040f283faad48cfb7612c",
        "IPY_MODEL_9f146fea4a6d42c4a8e9337a7e754189",
        "IPY_MODEL_f37767fd30b24ec7b0e7c245ebacd59c"
       ],
       "layout": "IPY_MODEL_e4cc72dfeaaa4575843e30bbbf9c824c"
      }
     },
     "44cc37eee3424d9daea4067136fd4fbe": {
      "model_module": "@jupyter-widgets/controls",
      "model_module_version": "1.5.0",
      "model_name": "HTMLModel",
      "state": {
       "_dom_classes": [],
       "_model_module": "@jupyter-widgets/controls",
       "_model_module_version": "1.5.0",
       "_model_name": "HTMLModel",
       "_view_count": null,
       "_view_module": "@jupyter-widgets/controls",
       "_view_module_version": "1.5.0",
       "_view_name": "HTMLView",
       "description": "",
       "description_tooltip": null,
       "layout": "IPY_MODEL_34477c061aea4951805716d8940f7af7",
       "placeholder": "​",
       "style": "IPY_MODEL_fac653e0ad4746c785b0859057e258c0",
       "value": "100%"
      }
     },
     "4735fc4f4bf84f779291e5aed72a155b": {
      "model_module": "@jupyter-widgets/controls",
      "model_module_version": "1.5.0",
      "model_name": "HTMLModel",
      "state": {
       "_dom_classes": [],
       "_model_module": "@jupyter-widgets/controls",
       "_model_module_version": "1.5.0",
       "_model_name": "HTMLModel",
       "_view_count": null,
       "_view_module": "@jupyter-widgets/controls",
       "_view_module_version": "1.5.0",
       "_view_name": "HTMLView",
       "description": "",
       "description_tooltip": null,
       "layout": "IPY_MODEL_9108a3f9cdc4423ba31428ac64ae7e81",
       "placeholder": "​",
       "style": "IPY_MODEL_4c2c5d6101de4856a586039a20a85e7a",
       "value": "model.safetensors: 100%"
      }
     },
     "4a5051c342da452a9c2bbc9228010028": {
      "model_module": "@jupyter-widgets/controls",
      "model_module_version": "1.5.0",
      "model_name": "HBoxModel",
      "state": {
       "_dom_classes": [],
       "_model_module": "@jupyter-widgets/controls",
       "_model_module_version": "1.5.0",
       "_model_name": "HBoxModel",
       "_view_count": null,
       "_view_module": "@jupyter-widgets/controls",
       "_view_module_version": "1.5.0",
       "_view_name": "HBoxView",
       "box_style": "",
       "children": [
        "IPY_MODEL_83ddb4dbfba6469393fd6bd3ad549b04",
        "IPY_MODEL_3c9ddb9a47044280927d3bbe191fefc1",
        "IPY_MODEL_03eba65747cb46ed9189186acf20b557"
       ],
       "layout": "IPY_MODEL_183d33da0f4340959953578539771db8"
      }
     },
     "4c2c5d6101de4856a586039a20a85e7a": {
      "model_module": "@jupyter-widgets/controls",
      "model_module_version": "1.5.0",
      "model_name": "DescriptionStyleModel",
      "state": {
       "_model_module": "@jupyter-widgets/controls",
       "_model_module_version": "1.5.0",
       "_model_name": "DescriptionStyleModel",
       "_view_count": null,
       "_view_module": "@jupyter-widgets/base",
       "_view_module_version": "1.2.0",
       "_view_name": "StyleView",
       "description_width": ""
      }
     },
     "52969ec9847b47f78b0a28967651856a": {
      "model_module": "@jupyter-widgets/controls",
      "model_module_version": "1.5.0",
      "model_name": "FloatProgressModel",
      "state": {
       "_dom_classes": [],
       "_model_module": "@jupyter-widgets/controls",
       "_model_module_version": "1.5.0",
       "_model_name": "FloatProgressModel",
       "_view_count": null,
       "_view_module": "@jupyter-widgets/controls",
       "_view_module_version": "1.5.0",
       "_view_name": "ProgressView",
       "bar_style": "success",
       "description": "",
       "description_tooltip": null,
       "layout": "IPY_MODEL_17cc037ab3da4928800bd703980e6df3",
       "max": 267832558.0,
       "min": 0.0,
       "orientation": "horizontal",
       "style": "IPY_MODEL_89e952ea4b92478daadcbfe66821d901",
       "value": 267832558.0
      }
     },
     "58a50f8ce600410496cbae264cbcb2ee": {
      "model_module": "@jupyter-widgets/controls",
      "model_module_version": "1.5.0",
      "model_name": "ProgressStyleModel",
      "state": {
       "_model_module": "@jupyter-widgets/controls",
       "_model_module_version": "1.5.0",
       "_model_name": "ProgressStyleModel",
       "_view_count": null,
       "_view_module": "@jupyter-widgets/base",
       "_view_module_version": "1.2.0",
       "_view_name": "StyleView",
       "bar_color": null,
       "description_width": ""
      }
     },
     "60dc39d31c154275bff331f9e6c44960": {
      "model_module": "@jupyter-widgets/controls",
      "model_module_version": "1.5.0",
      "model_name": "ProgressStyleModel",
      "state": {
       "_model_module": "@jupyter-widgets/controls",
       "_model_module_version": "1.5.0",
       "_model_name": "ProgressStyleModel",
       "_view_count": null,
       "_view_module": "@jupyter-widgets/base",
       "_view_module_version": "1.2.0",
       "_view_name": "StyleView",
       "bar_color": null,
       "description_width": ""
      }
     },
     "6889d5f11a7546b092d79079449b3839": {
      "model_module": "@jupyter-widgets/controls",
      "model_module_version": "1.5.0",
      "model_name": "ProgressStyleModel",
      "state": {
       "_model_module": "@jupyter-widgets/controls",
       "_model_module_version": "1.5.0",
       "_model_name": "ProgressStyleModel",
       "_view_count": null,
       "_view_module": "@jupyter-widgets/base",
       "_view_module_version": "1.2.0",
       "_view_name": "StyleView",
       "bar_color": null,
       "description_width": ""
      }
     },
     "69663b4439184fa59fffc6da4fc7920e": {
      "model_module": "@jupyter-widgets/controls",
      "model_module_version": "1.5.0",
      "model_name": "HTMLModel",
      "state": {
       "_dom_classes": [],
       "_model_module": "@jupyter-widgets/controls",
       "_model_module_version": "1.5.0",
       "_model_name": "HTMLModel",
       "_view_count": null,
       "_view_module": "@jupyter-widgets/controls",
       "_view_module_version": "1.5.0",
       "_view_name": "HTMLView",
       "description": "",
       "description_tooltip": null,
       "layout": "IPY_MODEL_9c766d73b25443b5a11ecb299a84f1bf",
       "placeholder": "​",
       "style": "IPY_MODEL_174627fa107f4a91b521d219e2648f71",
       "value": " 629/629 [00:00&lt;00:00, 44.9kB/s]"
      }
     },
     "6ef54496badb4da3961c5ec5d83d0893": {
      "model_module": "@jupyter-widgets/base",
      "model_module_version": "1.2.0",
      "model_name": "LayoutModel",
      "state": {
       "_model_module": "@jupyter-widgets/base",
       "_model_module_version": "1.2.0",
       "_model_name": "LayoutModel",
       "_view_count": null,
       "_view_module": "@jupyter-widgets/base",
       "_view_module_version": "1.2.0",
       "_view_name": "LayoutView",
       "align_content": null,
       "align_items": null,
       "align_self": null,
       "border": null,
       "bottom": null,
       "display": null,
       "flex": null,
       "flex_flow": null,
       "grid_area": null,
       "grid_auto_columns": null,
       "grid_auto_flow": null,
       "grid_auto_rows": null,
       "grid_column": null,
       "grid_gap": null,
       "grid_row": null,
       "grid_template_areas": null,
       "grid_template_columns": null,
       "grid_template_rows": null,
       "height": null,
       "justify_content": null,
       "justify_items": null,
       "left": null,
       "margin": null,
       "max_height": null,
       "max_width": null,
       "min_height": null,
       "min_width": null,
       "object_fit": null,
       "object_position": null,
       "order": null,
       "overflow": null,
       "overflow_x": null,
       "overflow_y": null,
       "padding": null,
       "right": null,
       "top": null,
       "visibility": null,
       "width": null
      }
     },
     "7be1b8fb989a4ff6a155f45b79430442": {
      "model_module": "@jupyter-widgets/controls",
      "model_module_version": "1.5.0",
      "model_name": "HBoxModel",
      "state": {
       "_dom_classes": [],
       "_model_module": "@jupyter-widgets/controls",
       "_model_module_version": "1.5.0",
       "_model_name": "HBoxModel",
       "_view_count": null,
       "_view_module": "@jupyter-widgets/controls",
       "_view_module_version": "1.5.0",
       "_view_name": "HBoxView",
       "box_style": "",
       "children": [
        "IPY_MODEL_44cc37eee3424d9daea4067136fd4fbe",
        "IPY_MODEL_33ac173d5fc54437985d0114415cfe1c",
        "IPY_MODEL_d50b5519d0ea4765877aa806178c733e"
       ],
       "layout": "IPY_MODEL_3a16a804c93c483886f8961cb0cb3c29"
      }
     },
     "7e82a0dd95cf40769e5595f4dd8483e7": {
      "model_module": "@jupyter-widgets/controls",
      "model_module_version": "1.5.0",
      "model_name": "HTMLModel",
      "state": {
       "_dom_classes": [],
       "_model_module": "@jupyter-widgets/controls",
       "_model_module_version": "1.5.0",
       "_model_name": "HTMLModel",
       "_view_count": null,
       "_view_module": "@jupyter-widgets/controls",
       "_view_module_version": "1.5.0",
       "_view_name": "HTMLView",
       "description": "",
       "description_tooltip": null,
       "layout": "IPY_MODEL_e1cb34e43af543deb38495ad52ef648c",
       "placeholder": "​",
       "style": "IPY_MODEL_b34385a1fc074bab9f21c7af5096b89a",
       "value": "100%"
      }
     },
     "7e83f852621f46d49d30c2ec60c5d951": {
      "model_module": "@jupyter-widgets/controls",
      "model_module_version": "1.5.0",
      "model_name": "HTMLModel",
      "state": {
       "_dom_classes": [],
       "_model_module": "@jupyter-widgets/controls",
       "_model_module_version": "1.5.0",
       "_model_name": "HTMLModel",
       "_view_count": null,
       "_view_module": "@jupyter-widgets/controls",
       "_view_module_version": "1.5.0",
       "_view_name": "HTMLView",
       "description": "",
       "description_tooltip": null,
       "layout": "IPY_MODEL_c5100f91ccb742459c6f46c92252e36a",
       "placeholder": "​",
       "style": "IPY_MODEL_c2dd0d64c38f4afa9f4c4acd24299a3c",
       "value": " 268M/268M [00:02&lt;00:00, 155MB/s]"
      }
     },
     "7fc923962123468890ea95d2518f43dd": {
      "model_module": "@jupyter-widgets/base",
      "model_module_version": "1.2.0",
      "model_name": "LayoutModel",
      "state": {
       "_model_module": "@jupyter-widgets/base",
       "_model_module_version": "1.2.0",
       "_model_name": "LayoutModel",
       "_view_count": null,
       "_view_module": "@jupyter-widgets/base",
       "_view_module_version": "1.2.0",
       "_view_name": "LayoutView",
       "align_content": null,
       "align_items": null,
       "align_self": null,
       "border": null,
       "bottom": null,
       "display": null,
       "flex": null,
       "flex_flow": null,
       "grid_area": null,
       "grid_auto_columns": null,
       "grid_auto_flow": null,
       "grid_auto_rows": null,
       "grid_column": null,
       "grid_gap": null,
       "grid_row": null,
       "grid_template_areas": null,
       "grid_template_columns": null,
       "grid_template_rows": null,
       "height": null,
       "justify_content": null,
       "justify_items": null,
       "left": null,
       "margin": null,
       "max_height": null,
       "max_width": null,
       "min_height": null,
       "min_width": null,
       "object_fit": null,
       "object_position": null,
       "order": null,
       "overflow": null,
       "overflow_x": null,
       "overflow_y": null,
       "padding": null,
       "right": null,
       "top": null,
       "visibility": null,
       "width": null
      }
     },
     "802b42a2f77b409e872facf441f4722d": {
      "model_module": "@jupyter-widgets/controls",
      "model_module_version": "1.5.0",
      "model_name": "DescriptionStyleModel",
      "state": {
       "_model_module": "@jupyter-widgets/controls",
       "_model_module_version": "1.5.0",
       "_model_name": "DescriptionStyleModel",
       "_view_count": null,
       "_view_module": "@jupyter-widgets/base",
       "_view_module_version": "1.2.0",
       "_view_name": "StyleView",
       "description_width": ""
      }
     },
     "83bad14c9d334513b16f9ace4ac78547": {
      "model_module": "@jupyter-widgets/base",
      "model_module_version": "1.2.0",
      "model_name": "LayoutModel",
      "state": {
       "_model_module": "@jupyter-widgets/base",
       "_model_module_version": "1.2.0",
       "_model_name": "LayoutModel",
       "_view_count": null,
       "_view_module": "@jupyter-widgets/base",
       "_view_module_version": "1.2.0",
       "_view_name": "LayoutView",
       "align_content": null,
       "align_items": null,
       "align_self": null,
       "border": null,
       "bottom": null,
       "display": null,
       "flex": null,
       "flex_flow": null,
       "grid_area": null,
       "grid_auto_columns": null,
       "grid_auto_flow": null,
       "grid_auto_rows": null,
       "grid_column": null,
       "grid_gap": null,
       "grid_row": null,
       "grid_template_areas": null,
       "grid_template_columns": null,
       "grid_template_rows": null,
       "height": null,
       "justify_content": null,
       "justify_items": null,
       "left": null,
       "margin": null,
       "max_height": null,
       "max_width": null,
       "min_height": null,
       "min_width": null,
       "object_fit": null,
       "object_position": null,
       "order": null,
       "overflow": null,
       "overflow_x": null,
       "overflow_y": null,
       "padding": null,
       "right": null,
       "top": null,
       "visibility": null,
       "width": null
      }
     },
     "83ddb4dbfba6469393fd6bd3ad549b04": {
      "model_module": "@jupyter-widgets/controls",
      "model_module_version": "1.5.0",
      "model_name": "HTMLModel",
      "state": {
       "_dom_classes": [],
       "_model_module": "@jupyter-widgets/controls",
       "_model_module_version": "1.5.0",
       "_model_name": "HTMLModel",
       "_view_count": null,
       "_view_module": "@jupyter-widgets/controls",
       "_view_module_version": "1.5.0",
       "_view_name": "HTMLView",
       "description": "",
       "description_tooltip": null,
       "layout": "IPY_MODEL_6ef54496badb4da3961c5ec5d83d0893",
       "placeholder": "​",
       "style": "IPY_MODEL_e451036397fc4f5fa6332efa3e2691de",
       "value": "vocab.txt: 100%"
      }
     },
     "8632491cf6614749a2edd58a169d01de": {
      "model_module": "@jupyter-widgets/base",
      "model_module_version": "1.2.0",
      "model_name": "LayoutModel",
      "state": {
       "_model_module": "@jupyter-widgets/base",
       "_model_module_version": "1.2.0",
       "_model_name": "LayoutModel",
       "_view_count": null,
       "_view_module": "@jupyter-widgets/base",
       "_view_module_version": "1.2.0",
       "_view_name": "LayoutView",
       "align_content": null,
       "align_items": null,
       "align_self": null,
       "border": null,
       "bottom": null,
       "display": null,
       "flex": null,
       "flex_flow": null,
       "grid_area": null,
       "grid_auto_columns": null,
       "grid_auto_flow": null,
       "grid_auto_rows": null,
       "grid_column": null,
       "grid_gap": null,
       "grid_row": null,
       "grid_template_areas": null,
       "grid_template_columns": null,
       "grid_template_rows": null,
       "height": null,
       "justify_content": null,
       "justify_items": null,
       "left": null,
       "margin": null,
       "max_height": null,
       "max_width": null,
       "min_height": null,
       "min_width": null,
       "object_fit": null,
       "object_position": null,
       "order": null,
       "overflow": null,
       "overflow_x": null,
       "overflow_y": null,
       "padding": null,
       "right": null,
       "top": null,
       "visibility": null,
       "width": null
      }
     },
     "89e952ea4b92478daadcbfe66821d901": {
      "model_module": "@jupyter-widgets/controls",
      "model_module_version": "1.5.0",
      "model_name": "ProgressStyleModel",
      "state": {
       "_model_module": "@jupyter-widgets/controls",
       "_model_module_version": "1.5.0",
       "_model_name": "ProgressStyleModel",
       "_view_count": null,
       "_view_module": "@jupyter-widgets/base",
       "_view_module_version": "1.2.0",
       "_view_name": "StyleView",
       "bar_color": null,
       "description_width": ""
      }
     },
     "9108a3f9cdc4423ba31428ac64ae7e81": {
      "model_module": "@jupyter-widgets/base",
      "model_module_version": "1.2.0",
      "model_name": "LayoutModel",
      "state": {
       "_model_module": "@jupyter-widgets/base",
       "_model_module_version": "1.2.0",
       "_model_name": "LayoutModel",
       "_view_count": null,
       "_view_module": "@jupyter-widgets/base",
       "_view_module_version": "1.2.0",
       "_view_name": "LayoutView",
       "align_content": null,
       "align_items": null,
       "align_self": null,
       "border": null,
       "bottom": null,
       "display": null,
       "flex": null,
       "flex_flow": null,
       "grid_area": null,
       "grid_auto_columns": null,
       "grid_auto_flow": null,
       "grid_auto_rows": null,
       "grid_column": null,
       "grid_gap": null,
       "grid_row": null,
       "grid_template_areas": null,
       "grid_template_columns": null,
       "grid_template_rows": null,
       "height": null,
       "justify_content": null,
       "justify_items": null,
       "left": null,
       "margin": null,
       "max_height": null,
       "max_width": null,
       "min_height": null,
       "min_width": null,
       "object_fit": null,
       "object_position": null,
       "order": null,
       "overflow": null,
       "overflow_x": null,
       "overflow_y": null,
       "padding": null,
       "right": null,
       "top": null,
       "visibility": null,
       "width": null
      }
     },
     "913a0b1b83f6437dafe18f1a2bc728e8": {
      "model_module": "@jupyter-widgets/base",
      "model_module_version": "1.2.0",
      "model_name": "LayoutModel",
      "state": {
       "_model_module": "@jupyter-widgets/base",
       "_model_module_version": "1.2.0",
       "_model_name": "LayoutModel",
       "_view_count": null,
       "_view_module": "@jupyter-widgets/base",
       "_view_module_version": "1.2.0",
       "_view_name": "LayoutView",
       "align_content": null,
       "align_items": null,
       "align_self": null,
       "border": null,
       "bottom": null,
       "display": null,
       "flex": null,
       "flex_flow": null,
       "grid_area": null,
       "grid_auto_columns": null,
       "grid_auto_flow": null,
       "grid_auto_rows": null,
       "grid_column": null,
       "grid_gap": null,
       "grid_row": null,
       "grid_template_areas": null,
       "grid_template_columns": null,
       "grid_template_rows": null,
       "height": null,
       "justify_content": null,
       "justify_items": null,
       "left": null,
       "margin": null,
       "max_height": null,
       "max_width": null,
       "min_height": null,
       "min_width": null,
       "object_fit": null,
       "object_position": null,
       "order": null,
       "overflow": null,
       "overflow_x": null,
       "overflow_y": null,
       "padding": null,
       "right": null,
       "top": null,
       "visibility": null,
       "width": null
      }
     },
     "9c766d73b25443b5a11ecb299a84f1bf": {
      "model_module": "@jupyter-widgets/base",
      "model_module_version": "1.2.0",
      "model_name": "LayoutModel",
      "state": {
       "_model_module": "@jupyter-widgets/base",
       "_model_module_version": "1.2.0",
       "_model_name": "LayoutModel",
       "_view_count": null,
       "_view_module": "@jupyter-widgets/base",
       "_view_module_version": "1.2.0",
       "_view_name": "LayoutView",
       "align_content": null,
       "align_items": null,
       "align_self": null,
       "border": null,
       "bottom": null,
       "display": null,
       "flex": null,
       "flex_flow": null,
       "grid_area": null,
       "grid_auto_columns": null,
       "grid_auto_flow": null,
       "grid_auto_rows": null,
       "grid_column": null,
       "grid_gap": null,
       "grid_row": null,
       "grid_template_areas": null,
       "grid_template_columns": null,
       "grid_template_rows": null,
       "height": null,
       "justify_content": null,
       "justify_items": null,
       "left": null,
       "margin": null,
       "max_height": null,
       "max_width": null,
       "min_height": null,
       "min_width": null,
       "object_fit": null,
       "object_position": null,
       "order": null,
       "overflow": null,
       "overflow_x": null,
       "overflow_y": null,
       "padding": null,
       "right": null,
       "top": null,
       "visibility": null,
       "width": null
      }
     },
     "9dfbf4bd83664a598b811fd1f6ea01ca": {
      "model_module": "@jupyter-widgets/controls",
      "model_module_version": "1.5.0",
      "model_name": "ProgressStyleModel",
      "state": {
       "_model_module": "@jupyter-widgets/controls",
       "_model_module_version": "1.5.0",
       "_model_name": "ProgressStyleModel",
       "_view_count": null,
       "_view_module": "@jupyter-widgets/base",
       "_view_module_version": "1.2.0",
       "_view_name": "StyleView",
       "bar_color": null,
       "description_width": ""
      }
     },
     "9f146fea4a6d42c4a8e9337a7e754189": {
      "model_module": "@jupyter-widgets/controls",
      "model_module_version": "1.5.0",
      "model_name": "FloatProgressModel",
      "state": {
       "_dom_classes": [],
       "_model_module": "@jupyter-widgets/controls",
       "_model_module_version": "1.5.0",
       "_model_name": "FloatProgressModel",
       "_view_count": null,
       "_view_module": "@jupyter-widgets/controls",
       "_view_module_version": "1.5.0",
       "_view_name": "ProgressView",
       "bar_style": "success",
       "description": "",
       "description_tooltip": null,
       "layout": "IPY_MODEL_e2b8e6b0a2874ea1ae5fff06daf286af",
       "max": 48.0,
       "min": 0.0,
       "orientation": "horizontal",
       "style": "IPY_MODEL_6889d5f11a7546b092d79079449b3839",
       "value": 48.0
      }
     },
     "b2aa2714f4704def8994f5dcc776bec1": {
      "model_module": "@jupyter-widgets/controls",
      "model_module_version": "1.5.0",
      "model_name": "HBoxModel",
      "state": {
       "_dom_classes": [],
       "_model_module": "@jupyter-widgets/controls",
       "_model_module_version": "1.5.0",
       "_model_name": "HBoxModel",
       "_view_count": null,
       "_view_module": "@jupyter-widgets/controls",
       "_view_module_version": "1.5.0",
       "_view_name": "HBoxView",
       "box_style": "",
       "children": [
        "IPY_MODEL_4735fc4f4bf84f779291e5aed72a155b",
        "IPY_MODEL_52969ec9847b47f78b0a28967651856a",
        "IPY_MODEL_7e83f852621f46d49d30c2ec60c5d951"
       ],
       "layout": "IPY_MODEL_b9d4b1f753704365a533a50117dc2dae"
      }
     },
     "b34385a1fc074bab9f21c7af5096b89a": {
      "model_module": "@jupyter-widgets/controls",
      "model_module_version": "1.5.0",
      "model_name": "DescriptionStyleModel",
      "state": {
       "_model_module": "@jupyter-widgets/controls",
       "_model_module_version": "1.5.0",
       "_model_name": "DescriptionStyleModel",
       "_view_count": null,
       "_view_module": "@jupyter-widgets/base",
       "_view_module_version": "1.2.0",
       "_view_name": "StyleView",
       "description_width": ""
      }
     },
     "b9d4b1f753704365a533a50117dc2dae": {
      "model_module": "@jupyter-widgets/base",
      "model_module_version": "1.2.0",
      "model_name": "LayoutModel",
      "state": {
       "_model_module": "@jupyter-widgets/base",
       "_model_module_version": "1.2.0",
       "_model_name": "LayoutModel",
       "_view_count": null,
       "_view_module": "@jupyter-widgets/base",
       "_view_module_version": "1.2.0",
       "_view_name": "LayoutView",
       "align_content": null,
       "align_items": null,
       "align_self": null,
       "border": null,
       "bottom": null,
       "display": null,
       "flex": null,
       "flex_flow": null,
       "grid_area": null,
       "grid_auto_columns": null,
       "grid_auto_flow": null,
       "grid_auto_rows": null,
       "grid_column": null,
       "grid_gap": null,
       "grid_row": null,
       "grid_template_areas": null,
       "grid_template_columns": null,
       "grid_template_rows": null,
       "height": null,
       "justify_content": null,
       "justify_items": null,
       "left": null,
       "margin": null,
       "max_height": null,
       "max_width": null,
       "min_height": null,
       "min_width": null,
       "object_fit": null,
       "object_position": null,
       "order": null,
       "overflow": null,
       "overflow_x": null,
       "overflow_y": null,
       "padding": null,
       "right": null,
       "top": null,
       "visibility": null,
       "width": null
      }
     },
     "ba642fd3cace4da9a4d309aff41fac2a": {
      "model_module": "@jupyter-widgets/controls",
      "model_module_version": "1.5.0",
      "model_name": "HBoxModel",
      "state": {
       "_dom_classes": [],
       "_model_module": "@jupyter-widgets/controls",
       "_model_module_version": "1.5.0",
       "_model_name": "HBoxModel",
       "_view_count": null,
       "_view_module": "@jupyter-widgets/controls",
       "_view_module_version": "1.5.0",
       "_view_name": "HBoxView",
       "box_style": "",
       "children": [
        "IPY_MODEL_7e82a0dd95cf40769e5595f4dd8483e7",
        "IPY_MODEL_16580e8b339343ec8462a7f74c2d4e32",
        "IPY_MODEL_31ee323af2b243c4b74dada61fc27028"
       ],
       "layout": "IPY_MODEL_3a3a29e618434336b02a477aa58a09cb"
      }
     },
     "c2dd0d64c38f4afa9f4c4acd24299a3c": {
      "model_module": "@jupyter-widgets/controls",
      "model_module_version": "1.5.0",
      "model_name": "DescriptionStyleModel",
      "state": {
       "_model_module": "@jupyter-widgets/controls",
       "_model_module_version": "1.5.0",
       "_model_name": "DescriptionStyleModel",
       "_view_count": null,
       "_view_module": "@jupyter-widgets/base",
       "_view_module_version": "1.2.0",
       "_view_name": "StyleView",
       "description_width": ""
      }
     },
     "c322bf524c574cf9895ff47db908a826": {
      "model_module": "@jupyter-widgets/base",
      "model_module_version": "1.2.0",
      "model_name": "LayoutModel",
      "state": {
       "_model_module": "@jupyter-widgets/base",
       "_model_module_version": "1.2.0",
       "_model_name": "LayoutModel",
       "_view_count": null,
       "_view_module": "@jupyter-widgets/base",
       "_view_module_version": "1.2.0",
       "_view_name": "LayoutView",
       "align_content": null,
       "align_items": null,
       "align_self": null,
       "border": null,
       "bottom": null,
       "display": null,
       "flex": null,
       "flex_flow": null,
       "grid_area": null,
       "grid_auto_columns": null,
       "grid_auto_flow": null,
       "grid_auto_rows": null,
       "grid_column": null,
       "grid_gap": null,
       "grid_row": null,
       "grid_template_areas": null,
       "grid_template_columns": null,
       "grid_template_rows": null,
       "height": null,
       "justify_content": null,
       "justify_items": null,
       "left": null,
       "margin": null,
       "max_height": null,
       "max_width": null,
       "min_height": null,
       "min_width": null,
       "object_fit": null,
       "object_position": null,
       "order": null,
       "overflow": null,
       "overflow_x": null,
       "overflow_y": null,
       "padding": null,
       "right": null,
       "top": null,
       "visibility": null,
       "width": null
      }
     },
     "c5100f91ccb742459c6f46c92252e36a": {
      "model_module": "@jupyter-widgets/base",
      "model_module_version": "1.2.0",
      "model_name": "LayoutModel",
      "state": {
       "_model_module": "@jupyter-widgets/base",
       "_model_module_version": "1.2.0",
       "_model_name": "LayoutModel",
       "_view_count": null,
       "_view_module": "@jupyter-widgets/base",
       "_view_module_version": "1.2.0",
       "_view_name": "LayoutView",
       "align_content": null,
       "align_items": null,
       "align_self": null,
       "border": null,
       "bottom": null,
       "display": null,
       "flex": null,
       "flex_flow": null,
       "grid_area": null,
       "grid_auto_columns": null,
       "grid_auto_flow": null,
       "grid_auto_rows": null,
       "grid_column": null,
       "grid_gap": null,
       "grid_row": null,
       "grid_template_areas": null,
       "grid_template_columns": null,
       "grid_template_rows": null,
       "height": null,
       "justify_content": null,
       "justify_items": null,
       "left": null,
       "margin": null,
       "max_height": null,
       "max_width": null,
       "min_height": null,
       "min_width": null,
       "object_fit": null,
       "object_position": null,
       "order": null,
       "overflow": null,
       "overflow_x": null,
       "overflow_y": null,
       "padding": null,
       "right": null,
       "top": null,
       "visibility": null,
       "width": null
      }
     },
     "c6984816c2384ff0b05501fa4e0987d6": {
      "model_module": "@jupyter-widgets/base",
      "model_module_version": "1.2.0",
      "model_name": "LayoutModel",
      "state": {
       "_model_module": "@jupyter-widgets/base",
       "_model_module_version": "1.2.0",
       "_model_name": "LayoutModel",
       "_view_count": null,
       "_view_module": "@jupyter-widgets/base",
       "_view_module_version": "1.2.0",
       "_view_name": "LayoutView",
       "align_content": null,
       "align_items": null,
       "align_self": null,
       "border": null,
       "bottom": null,
       "display": null,
       "flex": null,
       "flex_flow": null,
       "grid_area": null,
       "grid_auto_columns": null,
       "grid_auto_flow": null,
       "grid_auto_rows": null,
       "grid_column": null,
       "grid_gap": null,
       "grid_row": null,
       "grid_template_areas": null,
       "grid_template_columns": null,
       "grid_template_rows": null,
       "height": null,
       "justify_content": null,
       "justify_items": null,
       "left": null,
       "margin": null,
       "max_height": null,
       "max_width": null,
       "min_height": null,
       "min_width": null,
       "object_fit": null,
       "object_position": null,
       "order": null,
       "overflow": null,
       "overflow_x": null,
       "overflow_y": null,
       "padding": null,
       "right": null,
       "top": null,
       "visibility": null,
       "width": null
      }
     },
     "ccdb558eb5014603886c3da4ad30d7c1": {
      "model_module": "@jupyter-widgets/controls",
      "model_module_version": "1.5.0",
      "model_name": "ProgressStyleModel",
      "state": {
       "_model_module": "@jupyter-widgets/controls",
       "_model_module_version": "1.5.0",
       "_model_name": "ProgressStyleModel",
       "_view_count": null,
       "_view_module": "@jupyter-widgets/base",
       "_view_module_version": "1.2.0",
       "_view_name": "StyleView",
       "bar_color": null,
       "description_width": ""
      }
     },
     "cd28a25c5dfd4877a68dc96995bab546": {
      "model_module": "@jupyter-widgets/base",
      "model_module_version": "1.2.0",
      "model_name": "LayoutModel",
      "state": {
       "_model_module": "@jupyter-widgets/base",
       "_model_module_version": "1.2.0",
       "_model_name": "LayoutModel",
       "_view_count": null,
       "_view_module": "@jupyter-widgets/base",
       "_view_module_version": "1.2.0",
       "_view_name": "LayoutView",
       "align_content": null,
       "align_items": null,
       "align_self": null,
       "border": null,
       "bottom": null,
       "display": null,
       "flex": null,
       "flex_flow": null,
       "grid_area": null,
       "grid_auto_columns": null,
       "grid_auto_flow": null,
       "grid_auto_rows": null,
       "grid_column": null,
       "grid_gap": null,
       "grid_row": null,
       "grid_template_areas": null,
       "grid_template_columns": null,
       "grid_template_rows": null,
       "height": null,
       "justify_content": null,
       "justify_items": null,
       "left": null,
       "margin": null,
       "max_height": null,
       "max_width": null,
       "min_height": null,
       "min_width": null,
       "object_fit": null,
       "object_position": null,
       "order": null,
       "overflow": null,
       "overflow_x": null,
       "overflow_y": null,
       "padding": null,
       "right": null,
       "top": null,
       "visibility": null,
       "width": null
      }
     },
     "d50b5519d0ea4765877aa806178c733e": {
      "model_module": "@jupyter-widgets/controls",
      "model_module_version": "1.5.0",
      "model_name": "HTMLModel",
      "state": {
       "_dom_classes": [],
       "_model_module": "@jupyter-widgets/controls",
       "_model_module_version": "1.5.0",
       "_model_name": "HTMLModel",
       "_view_count": null,
       "_view_module": "@jupyter-widgets/controls",
       "_view_module_version": "1.5.0",
       "_view_name": "HTMLView",
       "description": "",
       "description_tooltip": null,
       "layout": "IPY_MODEL_7fc923962123468890ea95d2518f43dd",
       "placeholder": "​",
       "style": "IPY_MODEL_090505daadfa4822a88cd28c21a68312",
       "value": " 813/813 [00:01&lt;00:00, 573.01it/s]"
      }
     },
     "e1cb34e43af543deb38495ad52ef648c": {
      "model_module": "@jupyter-widgets/base",
      "model_module_version": "1.2.0",
      "model_name": "LayoutModel",
      "state": {
       "_model_module": "@jupyter-widgets/base",
       "_model_module_version": "1.2.0",
       "_model_name": "LayoutModel",
       "_view_count": null,
       "_view_module": "@jupyter-widgets/base",
       "_view_module_version": "1.2.0",
       "_view_name": "LayoutView",
       "align_content": null,
       "align_items": null,
       "align_self": null,
       "border": null,
       "bottom": null,
       "display": null,
       "flex": null,
       "flex_flow": null,
       "grid_area": null,
       "grid_auto_columns": null,
       "grid_auto_flow": null,
       "grid_auto_rows": null,
       "grid_column": null,
       "grid_gap": null,
       "grid_row": null,
       "grid_template_areas": null,
       "grid_template_columns": null,
       "grid_template_rows": null,
       "height": null,
       "justify_content": null,
       "justify_items": null,
       "left": null,
       "margin": null,
       "max_height": null,
       "max_width": null,
       "min_height": null,
       "min_width": null,
       "object_fit": null,
       "object_position": null,
       "order": null,
       "overflow": null,
       "overflow_x": null,
       "overflow_y": null,
       "padding": null,
       "right": null,
       "top": null,
       "visibility": null,
       "width": null
      }
     },
     "e2b8e6b0a2874ea1ae5fff06daf286af": {
      "model_module": "@jupyter-widgets/base",
      "model_module_version": "1.2.0",
      "model_name": "LayoutModel",
      "state": {
       "_model_module": "@jupyter-widgets/base",
       "_model_module_version": "1.2.0",
       "_model_name": "LayoutModel",
       "_view_count": null,
       "_view_module": "@jupyter-widgets/base",
       "_view_module_version": "1.2.0",
       "_view_name": "LayoutView",
       "align_content": null,
       "align_items": null,
       "align_self": null,
       "border": null,
       "bottom": null,
       "display": null,
       "flex": null,
       "flex_flow": null,
       "grid_area": null,
       "grid_auto_columns": null,
       "grid_auto_flow": null,
       "grid_auto_rows": null,
       "grid_column": null,
       "grid_gap": null,
       "grid_row": null,
       "grid_template_areas": null,
       "grid_template_columns": null,
       "grid_template_rows": null,
       "height": null,
       "justify_content": null,
       "justify_items": null,
       "left": null,
       "margin": null,
       "max_height": null,
       "max_width": null,
       "min_height": null,
       "min_width": null,
       "object_fit": null,
       "object_position": null,
       "order": null,
       "overflow": null,
       "overflow_x": null,
       "overflow_y": null,
       "padding": null,
       "right": null,
       "top": null,
       "visibility": null,
       "width": null
      }
     },
     "e451036397fc4f5fa6332efa3e2691de": {
      "model_module": "@jupyter-widgets/controls",
      "model_module_version": "1.5.0",
      "model_name": "DescriptionStyleModel",
      "state": {
       "_model_module": "@jupyter-widgets/controls",
       "_model_module_version": "1.5.0",
       "_model_name": "DescriptionStyleModel",
       "_view_count": null,
       "_view_module": "@jupyter-widgets/base",
       "_view_module_version": "1.2.0",
       "_view_name": "StyleView",
       "description_width": ""
      }
     },
     "e4cc72dfeaaa4575843e30bbbf9c824c": {
      "model_module": "@jupyter-widgets/base",
      "model_module_version": "1.2.0",
      "model_name": "LayoutModel",
      "state": {
       "_model_module": "@jupyter-widgets/base",
       "_model_module_version": "1.2.0",
       "_model_name": "LayoutModel",
       "_view_count": null,
       "_view_module": "@jupyter-widgets/base",
       "_view_module_version": "1.2.0",
       "_view_name": "LayoutView",
       "align_content": null,
       "align_items": null,
       "align_self": null,
       "border": null,
       "bottom": null,
       "display": null,
       "flex": null,
       "flex_flow": null,
       "grid_area": null,
       "grid_auto_columns": null,
       "grid_auto_flow": null,
       "grid_auto_rows": null,
       "grid_column": null,
       "grid_gap": null,
       "grid_row": null,
       "grid_template_areas": null,
       "grid_template_columns": null,
       "grid_template_rows": null,
       "height": null,
       "justify_content": null,
       "justify_items": null,
       "left": null,
       "margin": null,
       "max_height": null,
       "max_width": null,
       "min_height": null,
       "min_width": null,
       "object_fit": null,
       "object_position": null,
       "order": null,
       "overflow": null,
       "overflow_x": null,
       "overflow_y": null,
       "padding": null,
       "right": null,
       "top": null,
       "visibility": null,
       "width": null
      }
     },
     "f13901f9a75a44bab724adf0c1ed4135": {
      "model_module": "@jupyter-widgets/controls",
      "model_module_version": "1.5.0",
      "model_name": "HTMLModel",
      "state": {
       "_dom_classes": [],
       "_model_module": "@jupyter-widgets/controls",
       "_model_module_version": "1.5.0",
       "_model_name": "HTMLModel",
       "_view_count": null,
       "_view_module": "@jupyter-widgets/controls",
       "_view_module_version": "1.5.0",
       "_view_name": "HTMLView",
       "description": "",
       "description_tooltip": null,
       "layout": "IPY_MODEL_83bad14c9d334513b16f9ace4ac78547",
       "placeholder": "​",
       "style": "IPY_MODEL_268a9288011f471bbdd16940c31a495f",
       "value": "config.json: 100%"
      }
     },
     "f37767fd30b24ec7b0e7c245ebacd59c": {
      "model_module": "@jupyter-widgets/controls",
      "model_module_version": "1.5.0",
      "model_name": "HTMLModel",
      "state": {
       "_dom_classes": [],
       "_model_module": "@jupyter-widgets/controls",
       "_model_module_version": "1.5.0",
       "_model_name": "HTMLModel",
       "_view_count": null,
       "_view_module": "@jupyter-widgets/controls",
       "_view_module_version": "1.5.0",
       "_view_name": "HTMLView",
       "description": "",
       "description_tooltip": null,
       "layout": "IPY_MODEL_cd28a25c5dfd4877a68dc96995bab546",
       "placeholder": "​",
       "style": "IPY_MODEL_2cecc431cdaa4176b21589f3fa9589ca",
       "value": " 48.0/48.0 [00:00&lt;00:00, 3.42kB/s]"
      }
     },
     "f605e591aa3042568b7850ce712598d9": {
      "model_module": "@jupyter-widgets/controls",
      "model_module_version": "1.5.0",
      "model_name": "DescriptionStyleModel",
      "state": {
       "_model_module": "@jupyter-widgets/controls",
       "_model_module_version": "1.5.0",
       "_model_name": "DescriptionStyleModel",
       "_view_count": null,
       "_view_module": "@jupyter-widgets/base",
       "_view_module_version": "1.2.0",
       "_view_name": "StyleView",
       "description_width": ""
      }
     },
     "f640b1e9660040f283faad48cfb7612c": {
      "model_module": "@jupyter-widgets/controls",
      "model_module_version": "1.5.0",
      "model_name": "HTMLModel",
      "state": {
       "_dom_classes": [],
       "_model_module": "@jupyter-widgets/controls",
       "_model_module_version": "1.5.0",
       "_model_name": "HTMLModel",
       "_view_count": null,
       "_view_module": "@jupyter-widgets/controls",
       "_view_module_version": "1.5.0",
       "_view_name": "HTMLView",
       "description": "",
       "description_tooltip": null,
       "layout": "IPY_MODEL_0c01f5e39dd6412f85e49b97c87590d4",
       "placeholder": "​",
       "style": "IPY_MODEL_f605e591aa3042568b7850ce712598d9",
       "value": "tokenizer_config.json: 100%"
      }
     },
     "fa4307d62985489c9ebd535ffd7f6bb8": {
      "model_module": "@jupyter-widgets/base",
      "model_module_version": "1.2.0",
      "model_name": "LayoutModel",
      "state": {
       "_model_module": "@jupyter-widgets/base",
       "_model_module_version": "1.2.0",
       "_model_name": "LayoutModel",
       "_view_count": null,
       "_view_module": "@jupyter-widgets/base",
       "_view_module_version": "1.2.0",
       "_view_name": "LayoutView",
       "align_content": null,
       "align_items": null,
       "align_self": null,
       "border": null,
       "bottom": null,
       "display": null,
       "flex": null,
       "flex_flow": null,
       "grid_area": null,
       "grid_auto_columns": null,
       "grid_auto_flow": null,
       "grid_auto_rows": null,
       "grid_column": null,
       "grid_gap": null,
       "grid_row": null,
       "grid_template_areas": null,
       "grid_template_columns": null,
       "grid_template_rows": null,
       "height": null,
       "justify_content": null,
       "justify_items": null,
       "left": null,
       "margin": null,
       "max_height": null,
       "max_width": null,
       "min_height": null,
       "min_width": null,
       "object_fit": null,
       "object_position": null,
       "order": null,
       "overflow": null,
       "overflow_x": null,
       "overflow_y": null,
       "padding": null,
       "right": null,
       "top": null,
       "visibility": null,
       "width": null
      }
     },
     "fac653e0ad4746c785b0859057e258c0": {
      "model_module": "@jupyter-widgets/controls",
      "model_module_version": "1.5.0",
      "model_name": "DescriptionStyleModel",
      "state": {
       "_model_module": "@jupyter-widgets/controls",
       "_model_module_version": "1.5.0",
       "_model_name": "DescriptionStyleModel",
       "_view_count": null,
       "_view_module": "@jupyter-widgets/base",
       "_view_module_version": "1.2.0",
       "_view_name": "StyleView",
       "description_width": ""
      }
     }
    },
    "version_major": 2,
    "version_minor": 0
   }
  }
 },
 "nbformat": 4,
 "nbformat_minor": 5
}
